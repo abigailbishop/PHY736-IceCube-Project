{
 "cells": [
  {
   "cell_type": "code",
   "execution_count": 2,
   "metadata": {},
   "outputs": [],
   "source": [
    "# Imports\n",
    "import numpy as np\n",
    "import matplotlib.pyplot as plt\n",
    "import math\n",
    "import csv\n",
    "import random\n",
    "%matplotlib inline"
   ]
  },
  {
   "cell_type": "markdown",
   "metadata": {},
   "source": [
    "# Define Units\n",
    "\n",
    "Energy: MeV  \n",
    "Mass:   MeV * c$^2$  \n",
    "Time:   s  \n",
    "Length: m   \n",
    "Angles: Radians  "
   ]
  },
  {
   "cell_type": "markdown",
   "metadata": {},
   "source": [
    "# Define Constants"
   ]
  },
  {
   "cell_type": "code",
   "execution_count": 110,
   "metadata": {},
   "outputs": [
    {
     "name": "stdout",
     "output_type": "stream",
     "text": [
      "368.096194824722\n",
      "13.367201715037202\n",
      "30.150301408057157\n"
     ]
    }
   ],
   "source": [
    "alpha = 1/137\n",
    "r_o = 2.81794e-15 #m\n",
    "m_p = 938.272 #MeV/c^2\n",
    "m_e = .511 #MeV/c^2\n",
    "m_pi = 134.9766 #MeV/c^2\n",
    "q = 1.6e-19\n",
    "h = 4.136e-21 #MeV*s \n",
    "c  = 3e8\n",
    "N_A = 6.022e23\n",
    "rho = 916.7 #kg/m^3 at 0C and atmospheric pressure\n",
    "Z_nuc = 7.42 #Z_eff for water\n",
    "A_r = Z_nuc/.55509 #Z/A = .55509\n",
    "n = 1.309 #index of refraction of ice\n",
    "X_o = 1/(4*alpha*(r_o**2)*rho*(N_A/A_r)*Z_nuc*(1+Z_nuc)*np.log(183/(Z_nuc**(1/3))))\n",
    "print(X_o)\n",
    "print(A_r)\n",
    "X_1 = 1433*(.916)*A_r/(Z_nuc*(Z_nuc+1)*(11.319-np.log(Z_nuc)))\n",
    "print(X_1)"
   ]
  },
  {
   "cell_type": "markdown",
   "metadata": {},
   "source": [
    "# Define different Particles"
   ]
  },
  {
   "cell_type": "code",
   "execution_count": 21,
   "metadata": {},
   "outputs": [],
   "source": [
    "class Particle: \n",
    "    def __init__(self, particle_type, mass, charge, direction, location, energy):\n",
    "        self.particle_type = particle_type\n",
    "        self.mass = mass\n",
    "        self.charge = charge\n",
    "        self.location = location # array of [x, y, z] to describe location\n",
    "        self.direction = direction # array of [theta, phi] in direction of travel\n",
    "        self.theta = self.direction[0]\n",
    "        self.phi = self.direction[1]\n",
    "        self.energy = energy\n",
    "        self.beta = np.sqrt(1-(self.mass/self.energy)**2)\n",
    "        self.momentum = np.sqrt(self.energy**2-self.mass**2)/c #get rid of c?\n",
    "    def update_energy(new_energy):\n",
    "        self.energy = new_energy\n",
    "        self.beta = np.sqrt(1-(self.mass/self.energy)**2)\n",
    "        self.momentum = np.sqrt(self.energy**2-self.mass**2)/c #get rid of c?"
   ]
  },
  {
   "cell_type": "markdown",
   "metadata": {},
   "source": [
    "## Define Detector"
   ]
  },
  {
   "cell_type": "code",
   "execution_count": 111,
   "metadata": {},
   "outputs": [],
   "source": [
    "class DOM:\n",
    "    def __init__(self, location):\n",
    "        self.location = location\n",
    "        self.triggered = False"
   ]
  },
  {
   "cell_type": "markdown",
   "metadata": {},
   "source": [
    "## Define Coordinates"
   ]
  },
  {
   "cell_type": "code",
   "execution_count": 9,
   "metadata": {},
   "outputs": [],
   "source": [
    "#We assume that the center of IceCube is at [x,y,z] = [0,0,0]\n",
    "\n",
    "def conv_spherical_to_cartesian(r, theta, phi):\n",
    "    x = r*np.cos(phi)*np.sin(theta)\n",
    "    y = r*np.sin(phi)*np.sin(theta)\n",
    "    z = r*np.cos(theta)\n",
    "    return(x,y,z)\n",
    "\n",
    "def conv_cartesian_to_spherical(x,y,z):\n",
    "    r = np.sqrt(x**2+y**2+z**2) #distance to center of IceCube\n",
    "    theta = np.arccos(z/np.sqrt(x**2+y**2+z**2))\n",
    "    phi = np.arctan(y/x)\n",
    "    return(r, theta, phi)\n",
    "\n",
    "def add_direction(theta_i, phi_i, theta_step, phi_step):\n",
    "    x_i, y_i, z_i = conv_spherical_to_cartesian(1, theta_i, phi_i)\n",
    "    x_step, y_step, z_step = conv_spherical_to_cartesian(1, theta_step, phi_step)\n",
    "    x_f = x_i + x_step\n",
    "    y_f = y_i + y_step\n",
    "    z_f = z_i + z_step\n",
    "    r_f, theta_f, phi_f = conv_cartesian_to_spherical(x_f,y_f,z_f)\n",
    "    return([theta_f, phi_f])\n"
   ]
  },
  {
   "cell_type": "markdown",
   "metadata": {},
   "source": [
    "# Monte Carlo the Cascade\n",
    "\n",
    "Take each interaction, consider governing equations, pick randomized variables to plug into those equations"
   ]
  },
  {
   "cell_type": "markdown",
   "metadata": {},
   "source": [
    "## Functions for kinematics"
   ]
  },
  {
   "cell_type": "code",
   "execution_count": 86,
   "metadata": {},
   "outputs": [],
   "source": [
    "#interact & define secondaries\n",
    "\n",
    "def em_shower_step(particle):   \n",
    "    if particle.particle_type == 'electron':\n",
    "        #move\n",
    "        dx, dy, dz = conv_spherical_to_cartesian(X_o, particle.theta, particle.phi)\n",
    "        particle.location = [particle.location[0]+dx,particle.location[1]+dy,particle.location[2]+dz]\n",
    "\n",
    "        #interact & define secondaries\n",
    "        phi_i = random.uniform(0,np.pi)\n",
    "        pair_prod = 0; bremss=1;\n",
    "        interaction = random.randint(0,1)  #include probabilities later\n",
    "        if interaction == pair_prod: #assuming it hits a positron at rest\n",
    "            #print('pp')\n",
    "            photon_energy = (particle.energy+particle.mass)/2\n",
    "            direction1_step = [np.arccos(np.sqrt((particle.energy**2-particle.mass**2)/2*(photon_energy/c)**2)), phi_i]\n",
    "            direction2_step = [-np.arccos(np.sqrt((particle.energy**2-particle.mass**2)/2*(photon_energy/c)**2)), np.pi-phi_i]\n",
    "            direction1 = add_direction(particle.theta, particle.phi, direction1_step[0], direction1_step[1])\n",
    "            direction2 = add_direction(particle.theta, particle.phi, direction2_step[0], direction2_step[1])\n",
    "            photon1 = Particle('photon', 0, 0, direction1, particle.location, photon_energy) \n",
    "            photon2 = Particle('photon', 0, 0 , direction2, particle.location, photon_energy)\n",
    "            return(photon1,photon2)  \n",
    "        elif interaction == bremss:\n",
    "            #print('bremss')\n",
    "            photon_momentum = particle.energy/(2*c) #get rid of c?\n",
    "            secondary_electron_momentum = np.sqrt((particle.energy/2)**2 - m_e**2)/c #get rid of c?\n",
    "            electron_direction_step = [np.arccos((particle.momentum**2-photon_momentum**2)/(2*particle.momentum*secondary_electron_momentum)), phi_i]\n",
    "            electron_direction = add_direction(particle.theta, particle.phi, electron_direction_step[0], electron_direction_step[1])\n",
    "            photon_direction = [np.arcsin(np.sin(electron_direction_step[0])*secondary_electron_momentum/photon_momentum),np.pi - phi_i]\n",
    "            #print(electron_direction)\n",
    "            #print(photon_direction)\n",
    "            electron_energy = particle.energy/2\n",
    "            photon = Particle('photon', 0, 0, photon_direction, particle.location, (particle.energy)/2) \n",
    "            secondary_electron = Particle('electron',m_e,-1,electron_direction, particle.location, electron_energy)\n",
    "            return(secondary_electron, photon)\n",
    "    if particle.particle_type=='photon':\n",
    "        #move\n",
    "        dx, dy, dz = conv_spherical_to_cartesian(X_o, particle.theta, particle.phi)\n",
    "        particle.location = [particle.location[0]+dx,particle.location[1]+dy,particle.location[2]+dz]\n",
    "\n",
    "        #interact & define secondaries for pair production\n",
    "        phi_i = random.uniform(0,np.pi)\n",
    "        electron_energy = particle.energy/2\n",
    "        #direction1_step = [np.arccos(particle.energy/(2*np.sqrt(electron_energy**2-(m_e**2)))), phi_i] #BROKEN\n",
    "        #direction2_step = [-np.arccos(particle.energy/(2*np.sqrt(electron_energy**2-(m_e**2)))), np.pi-phi_i] #BROKEN\n",
    "        #direction1 = add_direction(particle.theta, particle.phi, direction1_step[0], direction1_step[1]) #BROKEN\n",
    "        #direction2 = add_direction(particle.theta, particle.phi, direction2_step[0], direction2_step[1]) #BROKEN\n",
    "        direction1 = particle.direction #temporary\n",
    "        direction2 = particle.direction #temporary\n",
    "        #print(particle.energy/(2*np.sqrt(electron_energy**2-(m_e**2))))\n",
    "        #print(direction2)\n",
    "        electron = Particle('electron', .511, -1, direction1, particle.location, electron_energy)\n",
    "        positron = Particle('positron', .511, 1 , direction2, particle.location, electron_energy)\n",
    "        return(electron,positron)                     "
   ]
  },
  {
   "cell_type": "code",
   "execution_count": 94,
   "metadata": {},
   "outputs": [
    {
     "name": "stdout",
     "output_type": "stream",
     "text": [
      "1.3661700795455733\n",
      "[1.5707963267948966, 0]\n",
      "1.3661700795455733\n",
      "[1.5707963267948966, 0]\n"
     ]
    },
    {
     "data": {
      "text/plain": [
       "{'particle_type': 'electron',\n",
       " 'mass': 0.511,\n",
       " 'charge': -1,\n",
       " 'location': [735118.2106401037, 0.0, 1.0000000000450129],\n",
       " 'direction': [1.5707963267948966, 0],\n",
       " 'theta': 1.5707963267948966,\n",
       " 'phi': 0,\n",
       " 'energy': 0.75,\n",
       " 'beta': 0.7319732842726494,\n",
       " 'momentum': 1.8299332106816234e-09}"
      ]
     },
     "execution_count": 94,
     "metadata": {},
     "output_type": "execute_result"
    }
   ],
   "source": [
    "#test\n",
    "electron = Particle('electron', .511, -1, [np.pi/2, 0],[1000,1000,1000],100)\n",
    "#em_shower_step(electron)\n",
    "photon = Particle('photon', 0, 0,[np.pi/2, 0],[1,0,1],1.5)\n",
    "em_shower_step(photon)[0].energy\n",
    "vars(em_shower_step(photon)[0])"
   ]
  },
  {
   "cell_type": "markdown",
   "metadata": {},
   "source": [
    "# Create Detector"
   ]
  },
  {
   "cell_type": "code",
   "execution_count": null,
   "metadata": {},
   "outputs": [],
   "source": [
    "locations = [[200,200,200],\n",
    "[200,200,-200],\n",
    "[-200,200,200],\n",
    "[-200,200,-200],\n",
    "[200,-200,200],\n",
    "[200,-200,-200],\n",
    "[-200,-200,200],\n",
    "[-200,-200,-200]]\n",
    "detector = []\n",
    "for dom in locations:\n",
    "    detector.append(DOM(dom))"
   ]
  },
  {
   "cell_type": "markdown",
   "metadata": {},
   "source": [
    "## Functions for Cherenkov radiation"
   ]
  },
  {
   "cell_type": "code",
   "execution_count": 116,
   "metadata": {},
   "outputs": [],
   "source": [
    "def cherenkov(charged_particle,n_steps): \n",
    "    #make cone & see if it intersects w/ detector, return every Cherenkov photon & its path\n",
    "    angle = np.arccos(1/(n*charged_particle.beta))\n",
    "    distance = conv_cartesian_to_spherical(charged_particle.location[0],charged_particle.location[1],charged_particle.location[2])[0]+2000 #added to ensure we travel entirely through IceCube\n",
    "    dNdx = 2*math.pi*(charged_particle.charge**2)*alpha*(np.sin(angle)**2)*((1/(400e-9))-(1/(700e-9)))\n",
    "    N = dNdx * X_o #assuming the electron travels 1 radiation length as it emits Cherenkov radiation\n",
    "    cherenkov_photons = []\n",
    "    for i in range(n_steps):\n",
    "        for photon in range (N/n_steps):\n",
    "            add_angle = add_direction(charged_particle.direction[0],charged_particle.direction[1], angle, 2*np.pi/(N*i))\n",
    "            new_photon = Particle('photon', 0, 0, add_angle, charged_particle.location, h*c/(450e-9)) #assumed blue light\n",
    "            cherenkov_photon.append(new_photon)\n",
    "            detection_radius = .3 #half of the hole width\n",
    "            visibility_region = detection_radius**2 *np.pi * distance #add in direction somehow\n",
    "            for dom in detector:\n",
    "                if dom.location: pass #within the visiblity region: dom.triggered = True\n",
    "            energy_lost = N*h*c/(450e-9)\n",
    "            charged_particle.update_energy(charged_particle.energy-energy_lost)\n",
    "    return(N)"
   ]
  },
  {
   "cell_type": "code",
   "execution_count": null,
   "metadata": {},
   "outputs": [],
   "source": [
    "def detector_response(cherenkov_photons): \n",
    "    # waiting for later\n",
    "    pass"
   ]
  },
  {
   "cell_type": "code",
   "execution_count": null,
   "metadata": {},
   "outputs": [],
   "source": [
    "# Strings are lines? \n",
    "# Do each DOM? \n",
    "\n",
    "# What percentage of detector is made up of PMTs, use that to estimate\n",
    "#   the fraction of the radiation is detected / not detected\n",
    "# Determine if Detector detects the Cherenkov Cone"
   ]
  },
  {
   "cell_type": "markdown",
   "metadata": {},
   "source": [
    "# Simulate Shower"
   ]
  },
  {
   "cell_type": "code",
   "execution_count": null,
   "metadata": {},
   "outputs": [],
   "source": [
    "def em_shower(neutrino, steps):\n",
    "    electron = Particle('electron',m_e,-1,neutrino.direction, neutrino.location, neutrino.energy)\n",
    "    incoming_particles =[electron]\n",
    "    for n in range(steps):\n",
    "        outgoing_particles = []\n",
    "        for particle in incoming_particles:\n",
    "            outgoing_particles.append(em_shower_step(particle))\n",
    "        for particle in outgoing_particles:\n",
    "            if particle.charge != 0:\n",
    "                pass\n",
    "                #Cherenkov cone\n",
    "                #detector response: strings/DOMs in array, where a class element is if it is triggered\n",
    "                #output DOMs that respond\n",
    "        incoming_particles = outgoing_particles"
   ]
  }
 ],
 "metadata": {
  "kernelspec": {
   "display_name": "Python 3",
   "language": "python",
   "name": "python3"
  },
  "language_info": {
   "codemirror_mode": {
    "name": "ipython",
    "version": 3
   },
   "file_extension": ".py",
   "mimetype": "text/x-python",
   "name": "python",
   "nbconvert_exporter": "python",
   "pygments_lexer": "ipython3",
   "version": "3.8.5"
  }
 },
 "nbformat": 4,
 "nbformat_minor": 4
}
