{
 "cells": [
  {
   "cell_type": "code",
   "execution_count": 1,
   "metadata": {},
   "outputs": [],
   "source": [
    "# Imports\n",
    "import numpy as np\n",
    "import matplotlib.pyplot as plt\n",
    "import math\n",
    "import csv\n",
    "import random\n",
    "%matplotlib inline"
   ]
  },
  {
   "cell_type": "markdown",
   "metadata": {},
   "source": [
    "# Define Units\n",
    "\n",
    "Energy: MeV  \n",
    "Mass:   MeV * c$^2$  \n",
    "Time:   s  \n",
    "Length: m   \n",
    "Angles: Radians  "
   ]
  },
  {
   "cell_type": "markdown",
   "metadata": {},
   "source": [
    "# Define Constants"
   ]
  },
  {
   "cell_type": "code",
   "execution_count": null,
   "metadata": {},
   "outputs": [],
   "source": [
    "alpha = 1/137\n",
    "r_o = 2.82e-15 #m\n",
    "m_p = 938.272 #MeV/c^2\n",
    "m_e = .511 #MeV/c^2\n",
    "m_pi = 134.9766 #MeV/c^2\n",
    "q = 1.6e-19\n",
    "h = 4.136e-21 #MeV*s \n",
    "c  = 3e8\n",
    "N_A = 6.022e23\n",
    "rho = #density of ice: FIND THIS\n",
    "Z_nuc = #ICE: FIND THIS\n",
    "Z = #is this diff from Z nuc?\n",
    "A_r = #ICE: FIND THIS\n",
    "n = 1.31 #index of refraction of ice CAN WE TAKE THIS TO BE CONSTANT PLEASE SAY YES"
   ]
  },
  {
   "cell_type": "markdown",
   "metadata": {},
   "source": [
    "# Define different Particles"
   ]
  },
  {
   "cell_type": "code",
   "execution_count": 9,
   "metadata": {},
   "outputs": [],
   "source": [
    "class Particle: \n",
    "    def __init__(self, particle_type, mass, charge, particle_direction, location, beta, energy):\n",
    "        self.particle_type = particle_type\n",
    "        self.mass = mass\n",
    "        self.charge = charge\n",
    "        self.location = location # array of [x, y, z] to describe location\n",
    "        self.particle_direction = particle_direction # array of [theta, phi] in direction of travel\n",
    "        self.theta = particle.direction[0]\n",
    "        self.phi = particle.direction[1]\n",
    "        self.beta = beta\n",
    "        self.energy = energy\n",
    "\n",
    "\n",
    "        \n",
    "electron = Particle(\"lepton\", 0.511, -1)"
   ]
  },
  {
   "cell_type": "code",
   "execution_count": 10,
   "metadata": {},
   "outputs": [
    {
     "data": {
      "text/plain": [
       "'lepton'"
      ]
     },
     "execution_count": 10,
     "metadata": {},
     "output_type": "execute_result"
    }
   ],
   "source": [
    "electron.particle_type"
   ]
  },
  {
   "cell_type": "markdown",
   "metadata": {},
   "source": [
    "# Define Interactions"
   ]
  },
  {
   "cell_type": "code",
   "execution_count": null,
   "metadata": {},
   "outputs": [],
   "source": [
    "class Interaction: \n",
    "    \"\"\"\n",
    "    Define this class\n",
    "    \"\"\"\n",
    "    \n",
    "    def __init__(self, particle_direction, particle, int_type, location):\n",
    "        self.particle_direction = particle_direction # array of [theta, phi] in direction of travel\n",
    "        self.theta = particle.direction[0]\n",
    "        self.phi = particle.direction[1]\n",
    "        self.particle = particle\n",
    "        self.int_type = int_type\n",
    "        self.location = location # array of [x, y, z] to describe location\n",
    "    \n",
    "    def get_secondaries(self):\n",
    "        if int_type == 'charged current: \n",
    "            return # lepton + hadron\n",
    "        if int_type == 'neutral current': \n",
    "            return # 2 hadrons"
   ]
  },
  {
   "cell_type": "markdown",
   "metadata": {},
   "source": [
    "# Monte Carlo the Cascade\n",
    "\n",
    "Take each interaction, consider governing equations, pick randomized variables to plug into those equations"
   ]
  },
  {
   "cell_type": "markdown",
   "metadata": {},
   "source": [
    "## Functions for kinematics"
   ]
  },
  {
   "cell_type": "code",
   "execution_count": 2,
   "metadata": {},
   "outputs": [],
   "source": [
    "def charged_current(neutrino):\n",
    "    #collision somehow\n",
    "    hadron_direction = #kinematics\n",
    "    hadron_beta = #kinematics\n",
    "    hadron_energy = #kinematics\n",
    "    lepton_direction = #kinematics\n",
    "    lepton_beta = #kinematics\n",
    "    lepton_energy = #kinematics\n",
    "    \n",
    "    hadron = Particle('hadron', 0, #add mass - random generator?\n",
    "                      0, #add charge\n",
    "                      hadron_direction, #determined above\n",
    "                      neutrino.location, \n",
    "                      beta, #determined above\n",
    "                      energy) #determined above\n",
    "    lepton = Particle('lepton', 0, #add mass - random generator?\n",
    "                      0, #add charge\n",
    "                      lepton_direction, #determined above\n",
    "                      neutrino.location, \n",
    "                      beta, #determined above\n",
    "                      energy) #determined above\n",
    "    return (hadron, lepton)\n",
    "\n",
    "def neutral_current(neutrino):\n",
    "    #collision somehow\n",
    "    hadron_direction = #kinematics\n",
    "    hadron_beta = #kinematics\n",
    "    hadron_energy = #kinematics\n",
    "    outgoing_neutrino_direction = #kinematics\n",
    "    outgoing_neutrino_beta = #kinematics\n",
    "    outgoing_neutrino_energy = #kinematics\n",
    "    \n",
    "    hadron = Particle('hadron', 0, #add mass - random generator?\n",
    "                      0, #add charge\n",
    "                      hadron_direction, #determined above\n",
    "                      neutrino.location, \n",
    "                      beta, #determined above\n",
    "                      energy) #determined above\n",
    "    outgoing_neutrino = Particle('neutrino', 0, #add mass - can we say they're massless? how else would the collision work?\n",
    "                      0, \n",
    "                      outgoing_neutrino_direction, #determined above\n",
    "                      neutrino.location, \n",
    "                      outgoing_neutrino_beta, #determined above\n",
    "                      outgoing_neutrino_energy) #determined above\n",
    "    return (hadron, outgoing_neutrino)\n",
    "\n",
    "def hadronic_shower_step(hadron): # can we plz not do this\n",
    "    #move\n",
    "    int_len = #put something real here\n",
    "    prob = random.randfloat(0,1) #need to make this better, ideally Gaussian centered @ 1\n",
    "    move = X_o*prob\n",
    "    dx = move*np.sin(hadron.theta)*np.cos(hadron.phi)\n",
    "    dy =  move*np.sin(hadron.theta)*np.sin(hadron.phi)\n",
    "    dz =  move*np.cos(hadron.theta)\n",
    "    hadron.location = [hadron.location[0]+dx,hadron.location[1]+dy,hadron.location[2]+dz]\n",
    "    \n",
    "    #interact & define secondaries\n",
    "\n",
    "def em_shower_step(electron):\n",
    "    #move\n",
    "    X_o = 1/(4*alpha*(r_o**2)) #put a real number here LOOK AT HW\n",
    "    prob = random.randfloat(0,1) #need to make this better, ideally Gaussian centered @ 1\n",
    "    move = X_o*prob\n",
    "    dx = move*np.sin(electron.theta)*np.cos(electron.phi)\n",
    "    dy =  move*np.sin(electron.theta)*np.sin(electron.phi)\n",
    "    dz =  move*np.cos(electron.theta)\n",
    "    electron.location = [electron.location[0]+dx,electron.location[1]+dy,electron.location[2]+dz]\n",
    "    \n",
    "    #interact & define secondaries\n",
    "    pair_prod = 0; bremss=1;\n",
    "    interaction = random.randint(0,1)  #need to include probabilities\n",
    "    if interactions == pair_prod: #assuming it hits a positron at rest\n",
    "        direction1 = #NEED TO DO \n",
    "        direction2 = #NEED TO DO\n",
    "        energy1 = #math \n",
    "        energy2 = #math\n",
    "        photon1 = Particle('photon', 0, 0, direction1, electron.location, 1, energy1) \n",
    "        photon2 = Particle('photon', 0, 0 , direction2, electron.location, 1, energy2)\n",
    "        return(photon1,photon2)  \n",
    "    elif move == bremss:\n",
    "        energy = #DO\n",
    "        photon = Particle('photon', 0, 0, direction1, electron.location, 1, energy)\n",
    "        electron.direction = #equation & random numbers\n",
    "        electron.energy = #do something, move\n",
    "        electron.beta = #slow down\n",
    "        return(electron, photon)"
   ]
  },
  {
   "cell_type": "markdown",
   "metadata": {},
   "source": [
    "## Functions for Cherenkov radiation"
   ]
  },
  {
   "cell_type": "code",
   "execution_count": 4,
   "metadata": {},
   "outputs": [],
   "source": [
    "def cherenkov(charged_particle, dist): \n",
    "    #make cone & see if it intersects w/ detector\n",
    "    angle = np.arccos(1/(n*charged_particle.beta))\n",
    "    #how do you make a cone?? maybe we found this on Stack Overflow\n",
    "    dNdx = 2*math.pi*(Z**2)*alpha*(np.sin(angle)**2)*((1/(400e-9))-(1/(700e-9)))\n",
    "    N = dNdx * dist #how far it has traveled\n",
    "    pass"
   ]
  },
  {
   "cell_type": "markdown",
   "metadata": {},
   "source": [
    "## Simulate all the particles"
   ]
  },
  {
   "cell_type": "code",
   "execution_count": null,
   "metadata": {},
   "outputs": [],
   "source": [
    "all_particles = {1: neutrino}\n",
    "\n",
    "def simulate(all_particles):\n",
    "    # Simulate interactions\n",
    "    \n",
    "    # iterate over each stage of event (1 = primary, 2 = secondary, etc)\n",
    "    stage_count = 1\n",
    "    while stage_count < 10: \n",
    "        outgoing_particles = []\n",
    "        for particle in all_particles[stage_count]: \n",
    "            # Simulate interaction with the world? Decay, propagate, etc?\n",
    "            \n",
    "            # need to calculate time over which particle does not interact\n",
    "            # that'll change the location\n",
    "            # recalculate location for each subsequent interaction\n",
    "            \n",
    "            if particle.particle_type == 'electron neutrino': \n",
    "                # special circumstances\n",
    "                # add secondaries, if need be\n",
    "            \n",
    "            if particle.particle_type == 'muon neutrino': \n",
    "                # special circumstances\n",
    "                # add secondaries, if need be\n",
    "                \n",
    "        all_particles[stage_count + 1].append(outgoing_particles)      \n",
    "        stage_count += 1\n",
    "        \n",
    "    return all_particles"
   ]
  },
  {
   "cell_type": "markdown",
   "metadata": {},
   "source": [
    "## Fill in Cherenkov Shower"
   ]
  },
  {
   "cell_type": "code",
   "execution_count": 3,
   "metadata": {},
   "outputs": [],
   "source": [
    "# Propagate Cherenkov Cone \n",
    "#  How much radiation is made\n",
    "\n",
    "for particle \n",
    "    # if it can Cherenkov make it cherenkov"
   ]
  },
  {
   "cell_type": "markdown",
   "metadata": {},
   "source": [
    "# Create a Detector"
   ]
  },
  {
   "cell_type": "code",
   "execution_count": null,
   "metadata": {},
   "outputs": [],
   "source": [
    "def detector_response(cherenkov_photons): \n",
    "    # waiting for later\n",
    "    pass"
   ]
  },
  {
   "cell_type": "code",
   "execution_count": null,
   "metadata": {},
   "outputs": [],
   "source": [
    "\n",
    "\n",
    "# Strings are lines? \n",
    "# Do each DOM? \n",
    "\n",
    "# What percentage of detector is made up of PMTs, use that to estimate\n",
    "#   the fraction of the radiation is detected / not detected"
   ]
  },
  {
   "cell_type": "code",
   "execution_count": 4,
   "metadata": {},
   "outputs": [],
   "source": [
    "# Determine if Detector detects the Cherenkov Cone"
   ]
  },
  {
   "cell_type": "code",
   "execution_count": null,
   "metadata": {},
   "outputs": [],
   "source": []
  }
 ],
 "metadata": {
  "kernelspec": {
   "display_name": "Python 3",
   "language": "python",
   "name": "python3"
  },
  "language_info": {
   "codemirror_mode": {
    "name": "ipython",
    "version": 3
   },
   "file_extension": ".py",
   "mimetype": "text/x-python",
   "name": "python",
   "nbconvert_exporter": "python",
   "pygments_lexer": "ipython3",
   "version": "3.8.5"
  }
 },
 "nbformat": 4,
 "nbformat_minor": 4
}
