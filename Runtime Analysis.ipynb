{
 "cells": [
  {
   "cell_type": "code",
   "execution_count": 1,
   "metadata": {},
   "outputs": [],
   "source": [
    "import numpy as np\n",
    "import matplotlib.pyplot as plt\n",
    "import pandas as pd"
   ]
  },
  {
   "cell_type": "markdown",
   "metadata": {},
   "source": [
    "Our simulation takes FOREVER to run. Hopefully this will help us figure out the best parameters to run with.  \n",
    "\n",
    "project.py now has 4 new detector geometries, each with 50m dom spacing, centered on [0,0,0], with 2, 3, 4, or 5 doms along each side of the IceCube (see code below)\n",
    "\n",
    "I test how varying amounts of shower steps affect run times for each of these geometries. For larger geometries, I test for fewer shower steps because the run time adds up quickly. "
   ]
  },
  {
   "cell_type": "raw",
   "metadata": {},
   "source": [
    "elif args.detector_geometry == 'IceCube_2':\n",
    "    X, Y, Z = np.mgrid[-25:25:2j, -25:25:2j,-25:25:2j]\n",
    "    scale = 100\n",
    "elif args.detector_geometry == 'IceCube_3':\n",
    "    X, Y, Z = np.mgrid[-50:50:3j, -50:50:3j,-50:50:3j]\n",
    "    scale = 200\n",
    "elif args.detector_geometry == 'IceCube_4':\n",
    "    X, Y, Z = np.mgrid[-75:75:4j, -75:75:4j,-75:75:4j]\n",
    "    scale = 300\n",
    "elif args.detector_geometry == 'IceCube_5':\n",
    "    X, Y, Z = np.mgrid[-100:100:5j, -100:100:5j,-100:100:5j]\n",
    "    scale = 350"
   ]
  },
  {
   "cell_type": "code",
   "execution_count": 2,
   "metadata": {},
   "outputs": [],
   "source": [
    "plot_dir = './images/runtime_images/'\n",
    "\n",
    "num_jobs = 10\n",
    "num_events = 1"
   ]
  },
  {
   "cell_type": "code",
   "execution_count": 3,
   "metadata": {},
   "outputs": [],
   "source": [
    "class DOM:\n",
    "    def __init__(self, location):\n",
    "        self.location = location\n",
    "        self.triggered = False\n",
    "        self.signals = []\n",
    "        self.times = []\n",
    "        \n",
    "    def distance_from(self, location): \n",
    "        x = location[0]\n",
    "        y = location[1]\n",
    "        z = location[2]\n",
    "        dom_x = self.location[0]\n",
    "        dom_y = self.location[1]\n",
    "        dom_z = self.location[2]\n",
    "        return np.sqrt((dom_x - x)**2 + (dom_y - y)**2 \n",
    "                        + (dom_z - z)**2)\n",
    "    \n",
    "    def trigger(self, time, num_photons=1): \n",
    "        self.triggered = True\n",
    "        self.signals.append(num_photons)\n",
    "        self.times.append(time)\n",
    "        \n",
    "    def clear_trigger(self):\n",
    "        self.triggered = False\n",
    "        self.signals = []\n",
    "        self.times = []"
   ]
  },
  {
   "cell_type": "code",
   "execution_count": 4,
   "metadata": {},
   "outputs": [],
   "source": [
    "class detector:\n",
    "    def __init__(self, dom_list, file_name=None):\n",
    "        if file_name is not None:\n",
    "            saved_data = np.load(file_name, \n",
    "                                 allow_pickle = True)[()]\n",
    "            dom_list = []\n",
    "            for load_dom in saved_data:\n",
    "                dom_list.append( DOM( load_dom['location'] ) )\n",
    "                dom_list[-1].triggered = load_dom['trigger']\n",
    "                dom_list[-1].signals   = load_dom['signals']\n",
    "                dom_list[-1].times     = load_dom['times']  \n",
    "                \n",
    "        self.dom_list = dom_list\n",
    "        \n",
    "    def num_triggered(self): \n",
    "        num_triggered = 0\n",
    "        for dom in self.dom_list: #CHANGED\n",
    "            if dom.triggered: \n",
    "                num_triggered += 1\n",
    "        return num_triggered\n",
    "    \n",
    "    def volume(self):\n",
    "        points = [dom.location for dom in self.dom_list]\n",
    "        region = ConvexHull(points)\n",
    "        return region.volume\n",
    "    \n",
    "    def save_detector(self, file_name):\n",
    "        output_array = []\n",
    "        for DOM in self.dom_list:\n",
    "            output_array.append({})\n",
    "            output_array[-1]['location']=DOM.location   \n",
    "            output_array[-1]['trigger']=DOM.triggered\n",
    "            output_array[-1]['signals']=DOM.signals\n",
    "            output_array[-1]['times']=DOM.times\n",
    "        np.save(file_name, output_array)\n",
    "        return None"
   ]
  },
  {
   "cell_type": "markdown",
   "metadata": {},
   "source": [
    "# Runtimes for Based on Detector Size and # of Shower Steps\n",
    "\n",
    "I use an energy of 4e10 MeV for these tests since the probability of Bremsstrahlung vs Pair Production is roughly 50/50 at this energy"
   ]
  },
  {
   "cell_type": "markdown",
   "metadata": {},
   "source": [
    "## Runtimes for Random Neutrino locations and directions"
   ]
  },
  {
   "cell_type": "code",
   "execution_count": 5,
   "metadata": {},
   "outputs": [],
   "source": [
    "# Hard coded information from the log files in \n",
    "#     /scratch/abishop/736_project/runtimes-2randwalksteps/vary_detector_showerSteps-FIXED\n",
    "\n",
    "# All neutrinos simulated are assigned a location and direction at random\n",
    "\n",
    "runtimes = {\n",
    "    'IceCube_2': {\n",
    "        '1 Shower Steps': [  1+( 7/60),  1+( 6/60),    (52/60),    (43/60),    (59/60), \n",
    "                               (57/60),  1+(21/60),    (49/60),    (56/60),  1+( 3/60) ],\n",
    "        '2 Shower Steps': [  4+(27/60),  4+(27/60),  4+(31/60),  3.       ,  3+(14/60),\n",
    "                             3+(33/60),  3+(39/60),  3+(41/60),  3+(20/60),  4+(24/60) ],\n",
    "        '3 Shower Steps': [  7+( 5/60),  5+(28/60),  6+(51/60),  7+(24/60),  5+(22/60),\n",
    "                             8+(18/60), 10+(25/60),  9+(25/60), 10+(31/60),  7+(58/60) ],\n",
    "        '4 Shower Steps': [ 22+(30/60), 17+(44/60), 16+(18/60), 17+( 9/60), 15+(20/60),\n",
    "                            24+(41/60), 18+(21/60), 21+(51/60), 23+(12/60), 17+(56/60) ],\n",
    "        '5 Shower Steps': [ 34+(29/60), 40+(42/60), 34+(47/60), 35+( 1/60), 31+(29/60), \n",
    "                            35+(28/60), 40+(56/60), 33+(15/60), 31+(31/60), 40+(59/60)],\n",
    "    },\n",
    "    'IceCube_3': {\n",
    "        '1 Shower Steps': [  3+( 3/60),  2+( 3/60),  3+(10/60),  2+(54/60),  2+( 9/60),\n",
    "                             1+(48/60),  1+(54/60),  1+(53/60),  1+(53/60),  1+(42/60) ],\n",
    "        '2 Shower Steps': [  7+(25/60),  7+(46/60),  7+(10/60),  6+(51/60),  7+(34/60),\n",
    "                             7+(40/60),  7+(27/60),  7+(11/60),  8.       ,  7+(35/60) ],\n",
    "        '3 Shower Steps': [ 19+( 6/60), 20+(19/60), 18+(57/60), 18+(52/60), 19+(16/60),\n",
    "                            20+(35/60), 19+(34/60), 14+(54/60), 19+(20/60), 18+(17/60) ],\n",
    "        '4 Shower Steps': [ 45+(19/60), 43+(52/60), 45.       , 34+(37/60), 33+(46/60),\n",
    "                            38+( 1/60), 37+(25/60), 36+(55/60), 43+(16/60), 45+(19/60) ],\n",
    "        '5 Shower Steps': [ 96+( 1/60),103+(48/60), 79+(12/60),104+(48/60),109+(53/60),\n",
    "                           105+(54/60),107+(27/60),101+(32/60),103+(52/60), 69+(45/60) ],\n",
    "    },\n",
    "    'IceCube_4': {\n",
    "        '1 Shower Steps': [  4+(59/60),  4+(47/60),  6+( 8/60),  5+(58/60),  7+(41/60),\n",
    "                             4+(55/60),  4+(48/60),  7+(20/60),  5+(19/60),  7+( 1/60) ],\n",
    "        '2 Shower Steps': [ 28.       , 20+(56/60), 27+( 6/60), 28+(27/60), 27+(17/60),\n",
    "                            22+( 5/60), 15+(37/60), 20+( 3/60), 19+(39/60), 22+( 2/60) ],\n",
    "        '3 Shower Steps': [ 41+(44/60), 51+(16/60), 51+( 1/60), 51+(18/60), 50+( 7/60),\n",
    "                            60+(18/60), 42+(19/60), 52+(12/60), 46+(18/60), 51+(19/60) ],\n",
    "        '4 Shower Steps': [ 96+( 1/60),103+(48/60), 79+(12/60),104+(48/60),109+(53/60),\n",
    "                           105+(54/60),107+(27/60),101+(32/60),103+(52/60), 69+(45/60)],\n",
    "    },\n",
    "    'IceCube_5': {\n",
    "        '1 Shower Steps': [  9+(51/60), 10+(22/60), 13+(10/60),  8+(31/60), 10+( 3/60),\n",
    "                             9+( 8/60),  9+(34/60), 10+(10/60),  9+( 9/60),  8+(30/60) ],\n",
    "        '2 Shower Steps': [ 38+(18/60), 32+(32/60), 35+(11/60), 35+(44/60), 37+(34/60),\n",
    "                            30+( 5/60), 37+( 4/60), 29+(21/60), 35+(51/60), 34+(54/60) ],\n",
    "        '3 Shower Steps': [ 69+(47/60),111+(44/60),103.       , 96.       , 92.       ,\n",
    "                            73+(33/60), 88+(54/60), 80+(39/60), 79+( 4/60), 87+( 2/60) ],\n",
    "    },\n",
    "    \n",
    "}"
   ]
  },
  {
   "cell_type": "code",
   "execution_count": 6,
   "metadata": {},
   "outputs": [],
   "source": [
    "runtimes_mean = {}\n",
    "runtimes_std  = {}\n",
    "\n",
    "for detector_name, runtime in runtimes.items():\n",
    "    runtimes_mean[detector_name] = {}\n",
    "    runtimes_std[detector_name]  = {}\n",
    "    for shower_steps, data in runtime.items():\n",
    "        runtimes_mean[detector_name][shower_steps] = np.mean(data)\n",
    "        runtimes_std[detector_name][shower_steps] = np.std(data)"
   ]
  },
  {
   "cell_type": "code",
   "execution_count": 7,
   "metadata": {},
   "outputs": [
    {
     "data": {
      "image/png": "[encoded data removed]",
      "text/plain": [
       "<Figure size 432x288 with 1 Axes>"
      ]
     },
     "metadata": {
      "needs_background": "light"
     },
     "output_type": "display_data"
    }
   ],
   "source": [
    "# Plots by shower steps\n",
    "fig, ax = plt.subplots()\n",
    "for detector_name, runtime in runtimes_mean.items():\n",
    "    xs = [int(key[0]) for key in runtime.keys()]\n",
    "    ys = list(runtime.values())\n",
    "    yerrs = list(runtimes_std[detector_name].values())\n",
    "    ax.errorbar(xs, ys, yerrs, label = detector_name[-1] + \" DOMS/side\")\n",
    "ax.set_xlabel(\"# Shower Steps\")\n",
    "ax.set_ylabel(\"Simulation Runtime (min)\")\n",
    "plt.legend()\n",
    "plt.savefig(f\"{plot_dir}runtime_by_shower_step_RANDOM\", dpi=300)\n",
    "plt.show()"
   ]
  },
  {
   "cell_type": "code",
   "execution_count": 8,
   "metadata": {},
   "outputs": [
    {
     "data": {
      "image/png": "[encoded data removed]",
      "text/plain": [
       "<Figure size 432x288 with 1 Axes>"
      ]
     },
     "metadata": {
      "needs_background": "light"
     },
     "output_type": "display_data"
    }
   ],
   "source": [
    "# Plots by # Doms / side\n",
    "fig, ax = plt.subplots()\n",
    "for shower_step in runtimes['IceCube_2'].keys():\n",
    "    xs = []\n",
    "    if shower_step[0] == '5':\n",
    "        xs = [2,3]\n",
    "    elif shower_step[0] == '4':\n",
    "        xs = [2,3,4]\n",
    "    else:\n",
    "        xs = [2,3,4,5]\n",
    "    ys =   [runtimes_mean[f\"IceCube_{x}\"][shower_step] for x in xs]\n",
    "    yerrs = [runtimes_std[f\"IceCube_{x}\"][shower_step] for x in xs]\n",
    "\n",
    "    ax.errorbar(xs, ys, yerrs, label = shower_step)\n",
    "ax.set_xlabel(\"# DOMs per side\")\n",
    "ax.set_ylabel(\"Simulation Runtime (min)\")\n",
    "plt.legend()\n",
    "plt.savefig(f\"{plot_dir}runtime_by_detector_RANDOM\", dpi=300)\n",
    "plt.show()"
   ]
  },
  {
   "cell_type": "code",
   "execution_count": 9,
   "metadata": {
    "scrolled": true
   },
   "outputs": [
    {
     "data": {
      "text/html": [
       "<div>\n",
       "<style scoped>\n",
       "    .dataframe tbody tr th:only-of-type {\n",
       "        vertical-align: middle;\n",
       "    }\n",
       "\n",
       "    .dataframe tbody tr th {\n",
       "        vertical-align: top;\n",
       "    }\n",
       "\n",
       "    .dataframe thead th {\n",
       "        text-align: right;\n",
       "    }\n",
       "</style>\n",
       "<table border=\"1\" class=\"dataframe\">\n",
       "  <thead>\n",
       "    <tr style=\"text-align: right;\">\n",
       "      <th></th>\n",
       "      <th>IceCube_2</th>\n",
       "      <th>IceCube_3</th>\n",
       "      <th>IceCube_4</th>\n",
       "      <th>IceCube_5</th>\n",
       "    </tr>\n",
       "  </thead>\n",
       "  <tbody>\n",
       "    <tr>\n",
       "      <th>1 Shower Steps</th>\n",
       "      <td>0.988333</td>\n",
       "      <td>2.248333</td>\n",
       "      <td>5.893333</td>\n",
       "      <td>9.846667</td>\n",
       "    </tr>\n",
       "    <tr>\n",
       "      <th>2 Shower Steps</th>\n",
       "      <td>3.826667</td>\n",
       "      <td>7.465000</td>\n",
       "      <td>23.120000</td>\n",
       "      <td>34.656667</td>\n",
       "    </tr>\n",
       "    <tr>\n",
       "      <th>3 Shower Steps</th>\n",
       "      <td>7.878333</td>\n",
       "      <td>18.916667</td>\n",
       "      <td>49.786667</td>\n",
       "      <td>88.171667</td>\n",
       "    </tr>\n",
       "    <tr>\n",
       "      <th>4 Shower Steps</th>\n",
       "      <td>19.503333</td>\n",
       "      <td>40.350000</td>\n",
       "      <td>98.220000</td>\n",
       "      <td>NaN</td>\n",
       "    </tr>\n",
       "    <tr>\n",
       "      <th>5 Shower Steps</th>\n",
       "      <td>35.861667</td>\n",
       "      <td>98.220000</td>\n",
       "      <td>NaN</td>\n",
       "      <td>NaN</td>\n",
       "    </tr>\n",
       "  </tbody>\n",
       "</table>\n",
       "</div>"
      ],
      "text/plain": [
       "                IceCube_2  IceCube_3  IceCube_4  IceCube_5\n",
       "1 Shower Steps   0.988333   2.248333   5.893333   9.846667\n",
       "2 Shower Steps   3.826667   7.465000  23.120000  34.656667\n",
       "3 Shower Steps   7.878333  18.916667  49.786667  88.171667\n",
       "4 Shower Steps  19.503333  40.350000  98.220000        NaN\n",
       "5 Shower Steps  35.861667  98.220000        NaN        NaN"
      ]
     },
     "execution_count": 9,
     "metadata": {},
     "output_type": "execute_result"
    }
   ],
   "source": [
    "pd.DataFrame(runtimes_mean)"
   ]
  },
  {
   "cell_type": "markdown",
   "metadata": {},
   "source": [
    "## Runtimes for a fixed Neutrino Event"
   ]
  },
  {
   "cell_type": "code",
   "execution_count": 10,
   "metadata": {},
   "outputs": [],
   "source": [
    "# Hard coded information from the log files in \n",
    "#     /scratch/abishop/736_project/runtimes-2randwalksteps/vary_detector_showerSteps-FIXED\n",
    "\n",
    "# All neutrinos are traveling in the +y direction and located above the origin and 15m in \n",
    "#     the y and z direction from the nearest DOM (hence why 3x3x3 and 5x5x5 are at 0,-35,-35)\n",
    "\n",
    "runtimes = {\n",
    "    'IceCube_2': {\n",
    "        # Neutrino at 0, -10, 10\n",
    "        '1 Shower Steps': [    (42/60),    (48/60),    (41/60),    (41/60),    (41/60),\n",
    "                               (49/60),    (39/60),    (43/60),    (42/60),    (44/60) ],\n",
    "        '2 Shower Steps': [  2+(36/60),  3+(34/60),  2+(48/60),  3+( 3/60),  3+(48/60),\n",
    "                             3+(12/60),  4+(35/60),  3+( 4/60),  3+(42/60),  3+( 4/60) ],\n",
    "        '3 Shower Steps': [  7+(38/60),  9+(51/60),  6.       ,  5+(59/60),  5+(58/60),\n",
    "                             7+(41/60),  7+(35/60),  6+(21/60),  7+(38/60),  7+(54/60) ],\n",
    "        '4 Shower Steps': [ 17+(24/60), 16+(31/60), 16+(39/60), 16+(37/60), 17+(48/60),\n",
    "                            15+(18/60), 16+( 1/60), 19+(30/60), 15+(51/60), 16+( 1/60) ],\n",
    "        '5 Shower Steps': [ 31+(53/60), 25+(20/60), 25+(55/60), 28+(44/60), 29+(30/60),\n",
    "                            37+(48/60), 40+(14/60), 29+(12/60), 40+(20/60), 29+(23/60) ],\n",
    "    },\n",
    "    'IceCube_3': {\n",
    "        # Neutrino at 0, -35, 35\n",
    "        '1 Shower Steps': [  2+(44/60),  2+(34/60),  2+(55/60),  2+(56/60),  2+(49/60),\n",
    "                             2+(31/60),  2+(30/60),  2+(51/60),  3+( 2/60),  2+(16/60)],\n",
    "        '2 Shower Steps': [  8+(22/60),  9+(20/60),  9+( 4/60), 11+(31/60), 11+(24/60),\n",
    "                            11+(18/60),  8+(23/60),  9+( 5/60), 11+(50/60), 12+( 4/60) ],\n",
    "        '3 Shower Steps': [ 19+(18/60), 26+( 4/60), 19+(17/60), 27+(15/60), 26+(53/50),\n",
    "                            25+(13/60), 26+(14/60), 25+(16/60), 21+(46/60), 21+( 5/60) ],\n",
    "        '4 Shower Steps': [ 37+(18/60), 47+(17/60), 34+(39/60), 38.       , 47+(50/60),\n",
    "                            48+(17/60), 57+(27/60), 37+(43/60), 45+( 1/60), 38+(27/60) ],\n",
    "        '5 Shower Steps': [ 85+(31/60), 85+(12/60), 82+(22/60),110+(13/60),105+(48/60),\n",
    "                           120+(39/60),112.       , 82+(36/90), 78+(23/60), 80+(13/60) ],\n",
    "        # Neutrino at 0, -10, 10\n",
    "#         '1 Shower Steps': [  2.       ,  1+(57/60),  2+( 5/60),  2+( 5/60),  2+(31/60),\n",
    "#                              2+(42/60),  1+(54/60),  1+(56/60),  1+(55/60),  1+(48/60) ],\n",
    "#         '2 Shower Steps': [  7+(13/60), 10+(48/60), 11+(45/60), 10+(44/60), 10+(26/60),\n",
    "#                             10+(30/60),  7+(36/60),  7+(47/60),  8+(21/60),  8+(21/60) ],\n",
    "#         '3 Shower Steps': [ 16+(49/60), 19+(30/60), 19+(27/60), 19+(28/60), 19+(24/60),\n",
    "#                             17+(33/60), 21+(23/60), 17+(29/60), 22+(32/60), 16+(49/60) ],\n",
    "#         '4 Shower Steps': [ 46+(27/60), 33+(41/60), 33+(52/60), 38+(27/60), 54+(18/60),\n",
    "#                             56+(48/60), 54+(48/60), 55+(11/60), 31+(38/60), 40+(19/60) ],\n",
    "#         '5 Shower Steps': [ 93+( 8/60),111+(24/60),142+( 6/60),117+(12/60),117+(32/60),\n",
    "#                             88+(33/60), 79+(21/60), 83+( 2/60), 79+(49/60),107+(20/60) ],\n",
    "    },\n",
    "    'IceCube_4': {\n",
    "        # Neutrino at 0, -10, 10\n",
    "        '1 Shower Steps': [  5+(22/60),  5+(30/60),  6+(53/60),  7+(15/60),  7+( 8/60),\n",
    "                             5+(41/60),  5+(27/60),  4+(13/60),  5+(28/60),  4+(17/60) ],\n",
    "        '2 Shower Steps': [ 28+(45/60), 16+(42/60), 16+(11/60), 19.       , 18+(57/60),\n",
    "                            18+( 3/60), 24+(46/60), 16+(28/60), 17+( 5/60), 14+(18/60) ],\n",
    "        '3 Shower Steps': [ 56+(39/60), 39+(30/60), 42+(46/60), 33+(53/60), 39+(33/60),\n",
    "                            39+(20/60), 56+( 9/60), 56+(16/60), 44+(54/60), 51+(19/50) ],\n",
    "        '4 Shower Steps': [110+(43/60),113+(24/60),111+(10/60),107+( 7/60),106+( 4/60),\n",
    "                            96+(39/60),114+(58/60), 82+( 9/60),106+(58/60), 99+(21/60) ],\n",
    "    },\n",
    "    'IceCube_5': {\n",
    "        # Neutrino at 0, -35, 35\n",
    "        '1 Shower Steps': [ 13+(50/60),  9+(50/60), 10+(34/60), 10+(16/60), 11+( 2/60),\n",
    "                            11+(46/60), 12+(16/60), 13+( 3/60), 10+(14/60) ],\n",
    "        '2 Shower Steps': [ 34+(50/60), 46+(36/60), 41+(34/60), 55+(36/60), 37+(13/60),\n",
    "                            47+( 7/60), 39+(58/60), 36+(51/60), 68+(20/60), 37+(19/60) ],\n",
    "        '3 Shower Steps': [ 72+(37/60), 73+(46/60), 59+( 3/60), 77+(46/60), 85+(58/60),\n",
    "                           106+(22/60), 97+(56/60), 85+(56/60), 75+(55/60), 67+(17/60) ],\n",
    "        # Neutrino at 0, -10, 10\n",
    "#         '1 Shower Steps': [  8+(33/60),  8+(22/60), 10+(25/60),  7+(50/60),  7+(46/60),\n",
    "#                             10+(12/60), 10+( 3/60),  8+(10/60),  8+(12/60),  8+(14/60)],\n",
    "#         '2 Shower Steps': [ 39+(15/60), 45+(53/60), 29+( 2/60), 28+(55/60), 38+(36/60),\n",
    "#                             39+(55/60), 45+(15/60), 51+ (4/60), 42+(57/60), 33+(39/60) ],\n",
    "#         '3 Shower Steps': [ 97+(30/60), 96+(49/60), 94+(34/60), 71+(37/60), 65+(52/60),\n",
    "#                             92+(29/60), 70+(35/60), 69+(11/60),132+(43/60),110+(39/60) ],\n",
    "    },\n",
    "    \n",
    "}"
   ]
  },
  {
   "cell_type": "code",
   "execution_count": 11,
   "metadata": {},
   "outputs": [],
   "source": [
    "runtimes_mean = {}\n",
    "runtimes_std  = {}\n",
    "\n",
    "for detector_name, runtime in runtimes.items():\n",
    "    runtimes_mean[detector_name] = {}\n",
    "    runtimes_std[detector_name]  = {}\n",
    "    for shower_steps, data in runtime.items():\n",
    "        runtimes_mean[detector_name][shower_steps] = np.mean(data)\n",
    "        runtimes_std[detector_name][shower_steps] = np.std(data)"
   ]
  },
  {
   "cell_type": "code",
   "execution_count": 12,
   "metadata": {},
   "outputs": [
    {
     "data": {
      "image/png": "[encoded data removed]",
      "text/plain": [
       "<Figure size 432x288 with 1 Axes>"
      ]
     },
     "metadata": {
      "needs_background": "light"
     },
     "output_type": "display_data"
    }
   ],
   "source": [
    "# Plots by shower steps\n",
    "fig, ax = plt.subplots()\n",
    "for detector_name, runtime in runtimes_mean.items():\n",
    "    xs = [int(key[0]) for key in runtime.keys()]\n",
    "    ys = list(runtime.values())\n",
    "    yerrs = list(runtimes_std[detector_name].values())\n",
    "    ax.errorbar(xs, ys, yerrs, label = detector_name[-1] + \" DOMS/side\")\n",
    "ax.set_xlabel(\"# Shower Steps\")\n",
    "ax.set_ylabel(\"Simulation Runtime (min)\")\n",
    "plt.legend()\n",
    "plt.savefig(f\"{plot_dir}runtime_by_shower_step_FIXED\", dpi=300)\n",
    "plt.show()"
   ]
  },
  {
   "cell_type": "code",
   "execution_count": 13,
   "metadata": {},
   "outputs": [
    {
     "data": {
      "image/png": "[encoded data removed]",
      "text/plain": [
       "<Figure size 432x288 with 1 Axes>"
      ]
     },
     "metadata": {
      "needs_background": "light"
     },
     "output_type": "display_data"
    }
   ],
   "source": [
    "# Plots by # Doms / side\n",
    "fig, ax = plt.subplots()\n",
    "for shower_step in runtimes['IceCube_2'].keys():\n",
    "    xs = []\n",
    "    if shower_step[0] == '5':\n",
    "        xs = [2,3]\n",
    "    elif shower_step[0] == '4':\n",
    "        xs = [2,3,4]\n",
    "    else:\n",
    "        xs = [2,3,4,5]\n",
    "    ys =   [runtimes_mean[f\"IceCube_{x}\"][shower_step] for x in xs]\n",
    "    yerrs = [runtimes_std[f\"IceCube_{x}\"][shower_step] for x in xs]\n",
    "\n",
    "    ax.errorbar(xs, ys, yerrs, label = shower_step)\n",
    "ax.set_xlabel(\"# DOMs per side\")\n",
    "ax.set_ylabel(\"Simulation Runtime (min)\")\n",
    "plt.legend()\n",
    "plt.savefig(f\"{plot_dir}runtime_by_detector_FIXED\", dpi=300)\n",
    "plt.show()"
   ]
  },
  {
   "cell_type": "code",
   "execution_count": 14,
   "metadata": {
    "scrolled": false
   },
   "outputs": [
    {
     "data": {
      "text/html": [
       "<div>\n",
       "<style scoped>\n",
       "    .dataframe tbody tr th:only-of-type {\n",
       "        vertical-align: middle;\n",
       "    }\n",
       "\n",
       "    .dataframe tbody tr th {\n",
       "        vertical-align: top;\n",
       "    }\n",
       "\n",
       "    .dataframe thead th {\n",
       "        text-align: right;\n",
       "    }\n",
       "</style>\n",
       "<table border=\"1\" class=\"dataframe\">\n",
       "  <thead>\n",
       "    <tr style=\"text-align: right;\">\n",
       "      <th></th>\n",
       "      <th>IceCube_2</th>\n",
       "      <th>IceCube_3</th>\n",
       "      <th>IceCube_4</th>\n",
       "      <th>IceCube_5</th>\n",
       "    </tr>\n",
       "  </thead>\n",
       "  <tbody>\n",
       "    <tr>\n",
       "      <th>1 Shower Steps</th>\n",
       "      <td>0.716667</td>\n",
       "      <td>2.713333</td>\n",
       "      <td>5.723333</td>\n",
       "      <td>11.427778</td>\n",
       "    </tr>\n",
       "    <tr>\n",
       "      <th>2 Shower Steps</th>\n",
       "      <td>3.343333</td>\n",
       "      <td>10.235000</td>\n",
       "      <td>19.025000</td>\n",
       "      <td>44.540000</td>\n",
       "    </tr>\n",
       "    <tr>\n",
       "      <th>3 Shower Steps</th>\n",
       "      <td>7.258333</td>\n",
       "      <td>23.852667</td>\n",
       "      <td>46.038000</td>\n",
       "      <td>80.260000</td>\n",
       "    </tr>\n",
       "    <tr>\n",
       "      <th>4 Shower Steps</th>\n",
       "      <td>16.766667</td>\n",
       "      <td>43.198333</td>\n",
       "      <td>104.855000</td>\n",
       "      <td>NaN</td>\n",
       "    </tr>\n",
       "    <tr>\n",
       "      <th>5 Shower Steps</th>\n",
       "      <td>31.831667</td>\n",
       "      <td>94.275000</td>\n",
       "      <td>NaN</td>\n",
       "      <td>NaN</td>\n",
       "    </tr>\n",
       "  </tbody>\n",
       "</table>\n",
       "</div>"
      ],
      "text/plain": [
       "                IceCube_2  IceCube_3   IceCube_4  IceCube_5\n",
       "1 Shower Steps   0.716667   2.713333    5.723333  11.427778\n",
       "2 Shower Steps   3.343333  10.235000   19.025000  44.540000\n",
       "3 Shower Steps   7.258333  23.852667   46.038000  80.260000\n",
       "4 Shower Steps  16.766667  43.198333  104.855000        NaN\n",
       "5 Shower Steps  31.831667  94.275000         NaN        NaN"
      ]
     },
     "execution_count": 14,
     "metadata": {},
     "output_type": "execute_result"
    }
   ],
   "source": [
    "pd.DataFrame(runtimes_mean)"
   ]
  },
  {
   "cell_type": "markdown",
   "metadata": {},
   "source": [
    "## Conclusion\n",
    "\n",
    "The duration of the simulation increased roughly linearly with number of DOMS, so cubicly when increasing the number of DOMs on each side of our IceCube. \n",
    "\n",
    "The duration of the simulation increased roughly 2.5 times for each additional shower step.\n",
    "\n",
    "Simulations were performed on fixed points to remove the chance of neutrinos being randomly generated away from the detector and speeding up the simulation. The 10 random tests still provided informative data though.\n",
    "\n",
    "At one point the number of random walk steps was tested and little impact was seen, likely because absorbtion by ice and DOM can stop photons from taking so many random walk steps to have a large impact"
   ]
  },
  {
   "cell_type": "markdown",
   "metadata": {},
   "source": [
    "# Runtime by Energy"
   ]
  },
  {
   "cell_type": "code",
   "execution_count": 15,
   "metadata": {},
   "outputs": [],
   "source": [
    "# for IceCube 4 and 3 shower steps\n",
    "runtimes = {\n",
    "    '1e6':  [ 40+(34/60), 62+(46/60), 63+(18/60), 62+(13/60), 57+(53/60),\n",
    "              54+(45/60), 57+(28/60), 36+( 3/60), 33+(47/60), 57+(58/60) ],\n",
    "    '1e8':  [ 54+( 7/60), 37+( 9/60), 33+(14/60), 49+(17/60), 50+( 8/60),\n",
    "              45+(57/60), 49+(43/60), 56+(17/60), 48+(39/60), 48+(32/60) ],\n",
    "    '4e10': [ 56+(39/60), 39+(30/60), 42+(46/60), 33+(53/60), 39+(33/60),\n",
    "              39+(20/60), 56+( 9/60), 56+(16/60), 44+(54/60), 51+(19/50) ],\n",
    "    '1e12': [ 56+( 1/60), 49+(30/60), 47+(29/60), 45+(33/60), 32+(43/60),\n",
    "              45+(27/60), 48+(52/60), 43+(58/60), 51+(24/60), 50+(25/60) ],\n",
    "    '1e14': [ 52+(54/60), 51+(10/60), 52+(11/60), 56+(47/60), 52+(56/60),\n",
    "              43+(32/60), 55+(57/60), 36+(38/60), 55+(35/60), 50+(16/60) ],\n",
    "}"
   ]
  },
  {
   "cell_type": "code",
   "execution_count": 16,
   "metadata": {},
   "outputs": [],
   "source": [
    "runtimes_mean = {}\n",
    "runtimes_std  = {}\n",
    "\n",
    "for energy, runtime in runtimes.items():\n",
    "    runtimes_mean[energy] = np.mean(runtime)\n",
    "    runtimes_std[energy]  = np.std(runtime)"
   ]
  },
  {
   "cell_type": "code",
   "execution_count": 17,
   "metadata": {},
   "outputs": [
    {
     "data": {
      "image/png": "[encoded data removed]",
      "text/plain": [
       "<Figure size 432x288 with 1 Axes>"
      ]
     },
     "metadata": {
      "needs_background": "light"
     },
     "output_type": "display_data"
    }
   ],
   "source": [
    "# Plots by shower steps\n",
    "fig, ax = plt.subplots()\n",
    "xs = list(runtimes_mean.keys())\n",
    "ys = list(runtimes_mean.values())\n",
    "yerrs = list(runtimes_std.values())\n",
    "ax.errorbar(xs, ys, yerrs)\n",
    "ax.set_xlabel(\"# Shower Steps\")\n",
    "ax.set_ylabel(\"Neutrino Energy\")\n",
    "ax.set_ylim(0,65)\n",
    "plt.show()"
   ]
  },
  {
   "cell_type": "code",
   "execution_count": 18,
   "metadata": {
    "scrolled": false
   },
   "outputs": [
    {
     "data": {
      "text/plain": [
       "{'1e6': 52.675,\n",
       " '1e8': 47.30499999999999,\n",
       " '4e10': 46.038,\n",
       " '1e12': 47.13666666666667,\n",
       " '1e14': 50.79333333333334}"
      ]
     },
     "execution_count": 18,
     "metadata": {},
     "output_type": "execute_result"
    }
   ],
   "source": [
    "runtimes_mean"
   ]
  },
  {
   "cell_type": "markdown",
   "metadata": {},
   "source": [
    "## Conclusion\n",
    "\n",
    "The energy of the shower has little impact on the runtime. "
   ]
  },
  {
   "cell_type": "markdown",
   "metadata": {},
   "source": [
    "# Number of DOMs Triggered for Various Detectors and # Shower Steps\n",
    "\n",
    "We would love to run a 2x2x2 detector with just one shower step since it takes the least amount of time, but it may not simulate the shower well. We run these simulations to analyze how far the shower is able to propagate and how many DOMs trigger for each setting analyzed for run time to help us pick the best tradeoff for accuracy vs runtime"
   ]
  },
  {
   "cell_type": "code",
   "execution_count": 19,
   "metadata": {},
   "outputs": [],
   "source": [
    "data_dir = \"/data/user/abishop/736_project/runtimes-2randwalksteps/vary_detector_showerSteps-FIXED/\""
   ]
  },
  {
   "cell_type": "code",
   "execution_count": 20,
   "metadata": {},
   "outputs": [
    {
     "data": {
      "text/html": [
       "<div>\n",
       "<style scoped>\n",
       "    .dataframe tbody tr th:only-of-type {\n",
       "        vertical-align: middle;\n",
       "    }\n",
       "\n",
       "    .dataframe tbody tr th {\n",
       "        vertical-align: top;\n",
       "    }\n",
       "\n",
       "    .dataframe thead th {\n",
       "        text-align: right;\n",
       "    }\n",
       "</style>\n",
       "<table border=\"1\" class=\"dataframe\">\n",
       "  <thead>\n",
       "    <tr style=\"text-align: right;\">\n",
       "      <th></th>\n",
       "      <th>IceCube_2</th>\n",
       "      <th>IceCube_3</th>\n",
       "      <th>IceCube_4</th>\n",
       "      <th>IceCube_5</th>\n",
       "    </tr>\n",
       "  </thead>\n",
       "  <tbody>\n",
       "    <tr>\n",
       "      <th>1 Shower Steps</th>\n",
       "      <td>[1, 2, 1, 2, 1, 2, 1, 2, 2, 1]</td>\n",
       "      <td>[2, 2, 2, 2, 2, 2, 2, 2, 2, 2]</td>\n",
       "      <td>[1, 1, 2, 2, 1, 1, 2, 2, 1, 1]</td>\n",
       "      <td>[2, 2, 2, 2, 2, 2, 2, 2, 2, 2]</td>\n",
       "    </tr>\n",
       "    <tr>\n",
       "      <th>2 Shower Steps</th>\n",
       "      <td>[2, 1, 2, 2, 2, 2, 1, 2, 2, 2]</td>\n",
       "      <td>[2, 2, 3, 3, 2, 2, 3, 2, 4, 4]</td>\n",
       "      <td>[2, 2, 2, 2, 2, 1, 2, 2, 2, 2]</td>\n",
       "      <td>[4, 3, 3, 2, 2, 2, 3, 3, 3, 2]</td>\n",
       "    </tr>\n",
       "    <tr>\n",
       "      <th>3 Shower Steps</th>\n",
       "      <td>[2, 2, 2, 2, 2, 2, 2, 2, 2, 2]</td>\n",
       "      <td>[2, 3, 2, 4, 4, 2, 2, 4, 3, 3]</td>\n",
       "      <td>[3, 3, 3, 3, 4, 2, 3, 4, 1, 3]</td>\n",
       "      <td>[3, 3, 3, 4, 3, 4, 5, 5, 4, 4]</td>\n",
       "    </tr>\n",
       "    <tr>\n",
       "      <th>4 Shower Steps</th>\n",
       "      <td>[2, 2, 2, 2, 2, 2, 2, 2, 2, 2]</td>\n",
       "      <td>[3, 4, 4, 2, 2, 2, 4, 2, 2, 3]</td>\n",
       "      <td>[6, 4, 5, 4, 4, 5, 5, 4, 5, 5]</td>\n",
       "      <td>NaN</td>\n",
       "    </tr>\n",
       "    <tr>\n",
       "      <th>5 Shower Steps</th>\n",
       "      <td>[2, 2, 2, 2, 2, 2, 2, 2, 2, 2]</td>\n",
       "      <td>[4, 3, 4, 2, 3, 4, 4, 3, 3, 3]</td>\n",
       "      <td>NaN</td>\n",
       "      <td>NaN</td>\n",
       "    </tr>\n",
       "  </tbody>\n",
       "</table>\n",
       "</div>"
      ],
      "text/plain": [
       "                                     IceCube_2  \\\n",
       "1 Shower Steps  [1, 2, 1, 2, 1, 2, 1, 2, 2, 1]   \n",
       "2 Shower Steps  [2, 1, 2, 2, 2, 2, 1, 2, 2, 2]   \n",
       "3 Shower Steps  [2, 2, 2, 2, 2, 2, 2, 2, 2, 2]   \n",
       "4 Shower Steps  [2, 2, 2, 2, 2, 2, 2, 2, 2, 2]   \n",
       "5 Shower Steps  [2, 2, 2, 2, 2, 2, 2, 2, 2, 2]   \n",
       "\n",
       "                                     IceCube_3  \\\n",
       "1 Shower Steps  [2, 2, 2, 2, 2, 2, 2, 2, 2, 2]   \n",
       "2 Shower Steps  [2, 2, 3, 3, 2, 2, 3, 2, 4, 4]   \n",
       "3 Shower Steps  [2, 3, 2, 4, 4, 2, 2, 4, 3, 3]   \n",
       "4 Shower Steps  [3, 4, 4, 2, 2, 2, 4, 2, 2, 3]   \n",
       "5 Shower Steps  [4, 3, 4, 2, 3, 4, 4, 3, 3, 3]   \n",
       "\n",
       "                                     IceCube_4                       IceCube_5  \n",
       "1 Shower Steps  [1, 1, 2, 2, 1, 1, 2, 2, 1, 1]  [2, 2, 2, 2, 2, 2, 2, 2, 2, 2]  \n",
       "2 Shower Steps  [2, 2, 2, 2, 2, 1, 2, 2, 2, 2]  [4, 3, 3, 2, 2, 2, 3, 3, 3, 2]  \n",
       "3 Shower Steps  [3, 3, 3, 3, 4, 2, 3, 4, 1, 3]  [3, 3, 3, 4, 3, 4, 5, 5, 4, 4]  \n",
       "4 Shower Steps  [6, 4, 5, 4, 4, 5, 5, 4, 5, 5]                             NaN  \n",
       "5 Shower Steps                             NaN                             NaN  "
      ]
     },
     "execution_count": 20,
     "metadata": {},
     "output_type": "execute_result"
    }
   ],
   "source": [
    "triggers = {\n",
    "    'IceCube_2': {\n",
    "        '1 Shower Steps': [],\n",
    "        '2 Shower Steps': [],\n",
    "        '3 Shower Steps': [],\n",
    "        '4 Shower Steps': [],\n",
    "        '5 Shower Steps': [],\n",
    "    },\n",
    "    'IceCube_3': {\n",
    "        '1 Shower Steps': [],\n",
    "        '2 Shower Steps': [],\n",
    "        '3 Shower Steps': [],\n",
    "        '4 Shower Steps': [],\n",
    "        '5 Shower Steps': [],\n",
    "    },\n",
    "    'IceCube_4': {\n",
    "        '1 Shower Steps': [],\n",
    "        '2 Shower Steps': [],\n",
    "        '3 Shower Steps': [],\n",
    "        '4 Shower Steps': [],\n",
    "    },\n",
    "    'IceCube_5': {\n",
    "        '1 Shower Steps': [],\n",
    "        '2 Shower Steps': [],\n",
    "        '3 Shower Steps': [],\n",
    "    },\n",
    "    \n",
    "}\n",
    "\n",
    "\n",
    "for detector_side in [2, 3, 4, 5]:\n",
    "    for shower_step in [1,2,3,4,5]:\n",
    "        for j in range(num_jobs):\n",
    "            file_name = (f\"/data/user/abishop/736_project/runtimes-2randwalksteps/\"\n",
    "                         f\"vary_detector_showerSteps-FIXED/runtime-i{detector_side}\"\n",
    "                         f\"-s{shower_step}-c10-e4e10\"\n",
    "                         f\"-{j}-detector.npy\")\n",
    "            \n",
    "            try:\n",
    "            \n",
    "                event_data = {'doms':[], 'file name': file_name}\n",
    "\n",
    "                IceCube = detector([], file_name)\n",
    "                triggers[f\"IceCube_{detector_side}\"][f\"{shower_step} Shower Steps\"].append(\n",
    "                    IceCube.num_triggered() )\n",
    "            \n",
    "            except FileNotFoundError:\n",
    "                continue\n",
    "                \n",
    "pd.DataFrame(triggers)"
   ]
  },
  {
   "cell_type": "code",
   "execution_count": 21,
   "metadata": {},
   "outputs": [
    {
     "data": {
      "text/html": [
       "<div>\n",
       "<style scoped>\n",
       "    .dataframe tbody tr th:only-of-type {\n",
       "        vertical-align: middle;\n",
       "    }\n",
       "\n",
       "    .dataframe tbody tr th {\n",
       "        vertical-align: top;\n",
       "    }\n",
       "\n",
       "    .dataframe thead th {\n",
       "        text-align: right;\n",
       "    }\n",
       "</style>\n",
       "<table border=\"1\" class=\"dataframe\">\n",
       "  <thead>\n",
       "    <tr style=\"text-align: right;\">\n",
       "      <th></th>\n",
       "      <th>IceCube_2</th>\n",
       "      <th>IceCube_3</th>\n",
       "      <th>IceCube_4</th>\n",
       "      <th>IceCube_5</th>\n",
       "    </tr>\n",
       "  </thead>\n",
       "  <tbody>\n",
       "    <tr>\n",
       "      <th>1 Shower Steps</th>\n",
       "      <td>1.5</td>\n",
       "      <td>2.0</td>\n",
       "      <td>1.4</td>\n",
       "      <td>2.0</td>\n",
       "    </tr>\n",
       "    <tr>\n",
       "      <th>2 Shower Steps</th>\n",
       "      <td>1.8</td>\n",
       "      <td>2.7</td>\n",
       "      <td>1.9</td>\n",
       "      <td>2.7</td>\n",
       "    </tr>\n",
       "    <tr>\n",
       "      <th>3 Shower Steps</th>\n",
       "      <td>2.0</td>\n",
       "      <td>2.9</td>\n",
       "      <td>2.9</td>\n",
       "      <td>3.8</td>\n",
       "    </tr>\n",
       "    <tr>\n",
       "      <th>4 Shower Steps</th>\n",
       "      <td>2.0</td>\n",
       "      <td>2.8</td>\n",
       "      <td>4.7</td>\n",
       "      <td>NaN</td>\n",
       "    </tr>\n",
       "    <tr>\n",
       "      <th>5 Shower Steps</th>\n",
       "      <td>2.0</td>\n",
       "      <td>3.3</td>\n",
       "      <td>NaN</td>\n",
       "      <td>NaN</td>\n",
       "    </tr>\n",
       "  </tbody>\n",
       "</table>\n",
       "</div>"
      ],
      "text/plain": [
       "                IceCube_2  IceCube_3  IceCube_4  IceCube_5\n",
       "1 Shower Steps        1.5        2.0        1.4        2.0\n",
       "2 Shower Steps        1.8        2.7        1.9        2.7\n",
       "3 Shower Steps        2.0        2.9        2.9        3.8\n",
       "4 Shower Steps        2.0        2.8        4.7        NaN\n",
       "5 Shower Steps        2.0        3.3        NaN        NaN"
      ]
     },
     "execution_count": 21,
     "metadata": {},
     "output_type": "execute_result"
    }
   ],
   "source": [
    "triggers_mean = {}\n",
    "triggers_std  = {}\n",
    "\n",
    "for detector_name, trigger in triggers.items():\n",
    "    triggers_mean[detector_name] = {}\n",
    "    triggers_std[detector_name]  = {}\n",
    "    for shower_steps, data in trigger.items():\n",
    "        triggers_mean[detector_name][shower_steps] = np.mean(data)\n",
    "        triggers_std[detector_name][shower_steps]  = np.std(data)\n",
    "    \n",
    "pd.DataFrame(triggers_mean)"
   ]
  },
  {
   "cell_type": "code",
   "execution_count": 22,
   "metadata": {},
   "outputs": [
    {
     "data": {
      "image/png": "[encoded data removed]",
      "text/plain": [
       "<Figure size 432x288 with 1 Axes>"
      ]
     },
     "metadata": {
      "needs_background": "light"
     },
     "output_type": "display_data"
    }
   ],
   "source": [
    "# Plots by shower steps\n",
    "fig, ax = plt.subplots()\n",
    "for detector_name, trigger in triggers_mean.items():\n",
    "    xs = [int(key[0]) for key in trigger.keys()]\n",
    "    ys = list(trigger.values())\n",
    "    yerrs = list(triggers_std[detector_name].values())\n",
    "    ax.errorbar(xs, ys, yerrs, label = detector_name[-1] + \" DOMS/side\")\n",
    "ax.set_xlabel(\"# Shower Steps\")\n",
    "ax.set_ylabel(\"# DOMs Triggered\")\n",
    "plt.legend()\n",
    "plt.savefig(f\"{plot_dir}dom_triggering_by_shower_steps\", dpi=300)\n",
    "plt.show()"
   ]
  },
  {
   "cell_type": "code",
   "execution_count": 23,
   "metadata": {},
   "outputs": [
    {
     "data": {
      "image/png": "[encoded data removed]",
      "text/plain": [
       "<Figure size 432x288 with 1 Axes>"
      ]
     },
     "metadata": {
      "needs_background": "light"
     },
     "output_type": "display_data"
    }
   ],
   "source": [
    "# Plots by # Doms / side\n",
    "fig, ax = plt.subplots()\n",
    "for shower_step in triggers['IceCube_2'].keys():\n",
    "    xs = []\n",
    "    if shower_step[0] == '5':\n",
    "        xs = [2,3]\n",
    "    elif shower_step[0] == '4':\n",
    "        xs = [2,3,4]\n",
    "    else:\n",
    "        xs = [2,3,4,5]\n",
    "    ys =   [triggers_mean[f\"IceCube_{x}\"][shower_step] for x in xs]\n",
    "    yerrs = [triggers_std[f\"IceCube_{x}\"][shower_step] for x in xs]\n",
    "\n",
    "    ax.errorbar(xs, ys, yerrs, label = shower_step)\n",
    "ax.set_xlabel(\"# DOMs per side\")\n",
    "ax.set_ylabel(\"# DOMs triggered\")\n",
    "plt.legend()\n",
    "plt.savefig(f\"{plot_dir}dom_triggering_by_detector\", dpi=300)\n",
    "plt.show()"
   ]
  }
 ],
 "metadata": {
  "kernelspec": {
   "display_name": "Python 3",
   "language": "python",
   "name": "python3"
  },
  "language_info": {
   "codemirror_mode": {
    "name": "ipython",
    "version": 3
   },
   "file_extension": ".py",
   "mimetype": "text/x-python",
   "name": "python",
   "nbconvert_exporter": "python",
   "pygments_lexer": "ipython3",
   "version": "3.7.5"
  }
 },
 "nbformat": 4,
 "nbformat_minor": 4
}
