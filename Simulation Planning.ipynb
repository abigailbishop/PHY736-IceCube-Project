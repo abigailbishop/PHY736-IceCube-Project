{
 "cells": [
  {
   "cell_type": "code",
   "execution_count": 1,
   "metadata": {},
   "outputs": [],
   "source": [
    "# Imports"
   ]
  },
  {
   "cell_type": "markdown",
   "metadata": {},
   "source": [
    "# Define Units\n",
    "\n",
    "Energy: MeV  \n",
    "Mass:   MeV * c$^2$  \n",
    "Time:   s  \n",
    "Length: cm   \n",
    "Angles: Radians  "
   ]
  },
  {
   "cell_type": "markdown",
   "metadata": {},
   "source": [
    "# Define different Particles"
   ]
  },
  {
   "cell_type": "code",
   "execution_count": 9,
   "metadata": {},
   "outputs": [],
   "source": [
    "class Particle: \n",
    "    def __init__(self, particle_type, mass, charge):\n",
    "        self.particle_type = particle_type\n",
    "        self.mass = mass\n",
    "        self.charge = charge\n",
    "        \n",
    "electron = Particle(\"lepton\", 0.511, -1)"
   ]
  },
  {
   "cell_type": "code",
   "execution_count": 10,
   "metadata": {},
   "outputs": [
    {
     "data": {
      "text/plain": [
       "'lepton'"
      ]
     },
     "execution_count": 10,
     "metadata": {},
     "output_type": "execute_result"
    }
   ],
   "source": [
    "electron.particle_type"
   ]
  },
  {
   "cell_type": "markdown",
   "metadata": {},
   "source": [
    "# Define Interactions"
   ]
  },
  {
   "cell_type": "code",
   "execution_count": null,
   "metadata": {},
   "outputs": [],
   "source": [
    "class Interaction: \n",
    "    \"\"\"\n",
    "    Define this class\n",
    "    \"\"\"\n",
    "    \n",
    "    def __init__(self, particle_direction, particle, int_type, location):\n",
    "        self.particle_direction = particle_direction\n",
    "        # TODO: turn direction into theta & phi?\n",
    "        self.particle = particle\n",
    "        self.int_type = int_type\n",
    "        self.location = location\n",
    "    \n",
    "    def get_secondaries(self):\n",
    "        if int_type == 'charged current: \n",
    "            return # lepton + hadron\n",
    "        if int_type == 'neutral current': \n",
    "            return # 2 hadrons"
   ]
  },
  {
   "cell_type": "markdown",
   "metadata": {},
   "source": [
    "# Define Input Parameters"
   ]
  },
  {
   "cell_type": "code",
   "execution_count": 11,
   "metadata": {},
   "outputs": [],
   "source": [
    "# Neutrino\n",
    "neutrino = Particle('neutrino', 0, 0)\n",
    "neutrino.energy = 1e7\n",
    "neutrino.direction = (0,1,0) # horizontal rn\n",
    "neutrino.location"
   ]
  },
  {
   "cell_type": "markdown",
   "metadata": {},
   "source": [
    "# Monte Carlo the Cascade\n",
    "\n",
    "Take each interaction, consider governing equations, pick randomized variables to plug into those equations"
   ]
  },
  {
   "cell_type": "markdown",
   "metadata": {},
   "source": [
    "## Functions for kinematics"
   ]
  },
  {
   "cell_type": "code",
   "execution_count": null,
   "metadata": {},
   "outputs": [],
   "source": [
    "def cherenkov_cone(): \n",
    "    pass\n",
    "    \n",
    "def spectrum(): \n",
    "    pass\n",
    "\n",
    "def shower_generation():\n",
    "    pass\n"
   ]
  },
  {
   "cell_type": "markdown",
   "metadata": {},
   "source": [
    "## Simulate all the particles"
   ]
  },
  {
   "cell_type": "code",
   "execution_count": null,
   "metadata": {},
   "outputs": [],
   "source": [
    "all_particles = {1: neutrino}\n",
    "\n",
    "def simulate(all_particles):\n",
    "    # Simulate interactions\n",
    "    \n",
    "    # iterate over each stage of event (1 = primary, 2 = secondary, etc)\n",
    "    stage_count = 1\n",
    "    while stage_count < 10: \n",
    "        outgoing_particles = []\n",
    "        for particle in all_particles[stage_count]: \n",
    "            # Simulate interaction with the world? Decay, propagate, etc?\n",
    "            \n",
    "            # need to calculate time over which particle does not interact\n",
    "            # that'll change the location\n",
    "            # recalculate location for each subsequent interaction\n",
    "            \n",
    "            if particle.particle_type == 'electron neutrino': \n",
    "                # special circumstances\n",
    "                # add secondaries, if need be\n",
    "            \n",
    "            if particle.particle_type == 'muon neutrino': \n",
    "                # special circumstances\n",
    "                # add secondaries, if need be\n",
    "                \n",
    "        all_particles[stage_count + 1].append(outgoing_particles)      \n",
    "        stage_count += 1\n",
    "        \n",
    "    return all_particles"
   ]
  },
  {
   "cell_type": "markdown",
   "metadata": {},
   "source": [
    "## Fill in Cherenkov Shower"
   ]
  },
  {
   "cell_type": "code",
   "execution_count": 3,
   "metadata": {},
   "outputs": [],
   "source": [
    "# Propagate Cherenkov Cone \n",
    "#  How much radiation is made\n",
    "\n",
    "for particle \n",
    "    # if it can Cherenkov make it cherenkov"
   ]
  },
  {
   "cell_type": "markdown",
   "metadata": {},
   "source": [
    "# Create a Detector"
   ]
  },
  {
   "cell_type": "code",
   "execution_count": null,
   "metadata": {},
   "outputs": [],
   "source": [
    "def detector_response(cherenkov_photons): \n",
    "    # waiting for later\n",
    "    pass"
   ]
  },
  {
   "cell_type": "code",
   "execution_count": null,
   "metadata": {},
   "outputs": [],
   "source": [
    "\n",
    "\n",
    "# Strings are lines? \n",
    "# Do each DOM? \n",
    "\n",
    "# What percentage of detector is made up of PMTs, use that to estimate\n",
    "#   the fraction of the radiation is detected / not detected"
   ]
  },
  {
   "cell_type": "code",
   "execution_count": 4,
   "metadata": {},
   "outputs": [],
   "source": [
    "# Determine if Detector detects the Cherenkov Cone"
   ]
  },
  {
   "cell_type": "code",
   "execution_count": null,
   "metadata": {},
   "outputs": [],
   "source": []
  }
 ],
 "metadata": {
  "kernelspec": {
   "display_name": "Python 3",
   "language": "python",
   "name": "python3"
  },
  "language_info": {
   "codemirror_mode": {
    "name": "ipython",
    "version": 3
   },
   "file_extension": ".py",
   "mimetype": "text/x-python",
   "name": "python",
   "nbconvert_exporter": "python",
   "pygments_lexer": "ipython3",
   "version": "3.8.5"
  }
 },
 "nbformat": 4,
 "nbformat_minor": 4
}
