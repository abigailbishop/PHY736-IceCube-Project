{
 "cells": [
  {
   "cell_type": "code",
   "execution_count": 1,
   "metadata": {},
   "outputs": [],
   "source": [
    "# Imports\n",
    "import numpy as np\n",
    "import matplotlib.pyplot as plt\n",
    "import math\n",
    "import csv\n",
    "import random\n",
    "import scipy\n",
    "from scipy.optimize import curve_fit\n",
    "from scipy.spatial import ConvexHull\n",
    "from cycler import cycler\n",
    "%matplotlib inline"
   ]
  },
  {
   "cell_type": "markdown",
   "metadata": {},
   "source": [
    "# Define Units\n",
    "\n",
    "Energy: MeV  \n",
    "Mass:   MeV * c$^2$  \n",
    "Time:   s  \n",
    "Length: m   \n",
    "Angles: Radians  "
   ]
  },
  {
   "cell_type": "markdown",
   "metadata": {},
   "source": [
    "# Define Constants"
   ]
  },
  {
   "cell_type": "code",
   "execution_count": 2,
   "metadata": {},
   "outputs": [],
   "source": [
    "alpha = 1/137\n",
    "r_o = 2.81794e-15 #m\n",
    "m_p = 938.272 #MeV/c^2\n",
    "m_e = .511 #MeV/c^2\n",
    "m_pi = 134.9766 #MeV/c^2\n",
    "q = 1.6e-19\n",
    "h = 4.136e-21 #MeV*s \n",
    "h_bar = 6.582119569e-22 #Mev*s\n",
    "c  = 3e8\n",
    "N_A = 6.022e23\n",
    "\n",
    "\n",
    "rho = 916.7 #kg/m^3 at 0C and atmospheric pressure\n",
    "Z_nuc = 7.42 #Z_eff for water\n",
    "A_r = Z_nuc/.55509 #Z/A = .55509\n",
    "n = 1.309 #index of refraction of ice\n",
    "X_o = 1/(4*alpha*(r_o**2)*rho*(N_A/A_r)*Z_nuc*(1+Z_nuc)*np.log(183/(Z_nuc**(1/3))))\n",
    "X_1 = 1433/(.916)*A_r/(Z_nuc*(Z_nuc+1)*(11.319-np.log(Z_nuc))) / 100.\n",
    "X_o = X_1\n",
    "\n",
    "abs_coeff   = 0.00853987      # according to Dima's data\n",
    "abs_length  = 1 / abs_coeff\n",
    "scat_coeff  = 0.0269972      # according to Dima's data\n",
    "scat_length = 1 / scat_coeff\n",
    "\n",
    "photon_mfp = 3 # meters, UPDATE\n",
    "\n",
    "# detection_radius = .3 #half of the hole width\n",
    "detection_radius = 10 # DOM oversizing\n",
    "DOM_QE = .25"
   ]
  },
  {
   "cell_type": "markdown",
   "metadata": {},
   "source": [
    "# Define different Particles"
   ]
  },
  {
   "cell_type": "code",
   "execution_count": 17,
   "metadata": {},
   "outputs": [],
   "source": [
    "class Particle: \n",
    "    def __init__(self, particle_type, mass, charge, direction, location, energy, time):\n",
    "        self.particle_type = particle_type\n",
    "        self.mass = mass\n",
    "        self.charge = charge\n",
    "        self.location = location # array of [x, y, z] to describe location\n",
    "        self.direction = direction # array of [theta, phi] in direction of travel\n",
    "        self.theta = self.direction[0]\n",
    "        self.phi = self.direction[1]\n",
    "        self.energy = energy\n",
    "        self.beta = np.sqrt(1-(self.mass/self.energy)**2)\n",
    "        self.momentum = np.sqrt(self.energy**2-self.mass**2)/c \n",
    "        self.time = time\n",
    "        \n",
    "    def update_energy(self, new_energy):\n",
    "        self.energy = new_energy\n",
    "        self.beta = np.sqrt(1-(self.mass/self.energy)**2)\n",
    "        self.momentum = np.sqrt(self.energy**2-self.mass**2)/c "
   ]
  },
  {
   "cell_type": "markdown",
   "metadata": {},
   "source": [
    "## Define Detector"
   ]
  },
  {
   "cell_type": "code",
   "execution_count": 44,
   "metadata": {},
   "outputs": [],
   "source": [
    "class DOM:\n",
    "    def __init__(self, location):\n",
    "        self.location = location\n",
    "        self.triggered = False\n",
    "        self.signals = []\n",
    "        self.times = []\n",
    "        \n",
    "    def distance_from(self, location): \n",
    "        x = location[0]\n",
    "        y = location[1]\n",
    "        z = location[2]\n",
    "        dom_x = self.location[0]\n",
    "        dom_y = self.location[1]\n",
    "        dom_z = self.location[2]\n",
    "        return np.sqrt((dom_x - x)**2 + (dom_y - y)**2 + (dom_z - z)**2)\n",
    "    \n",
    "    def trigger(self, time, num_photons=1): \n",
    "        self.triggered = True\n",
    "        self.signals.append(num_photons)\n",
    "        self.times.append(time)\n",
    "        \n",
    "    def clear_trigger(self):\n",
    "        self.triggered = False\n",
    "        self.signals = []\n",
    "        self.times = []\n",
    "    \n",
    "class detector:\n",
    "    def __init__(self, dom_list):\n",
    "        self.dom_list = dom_list\n",
    "        \n",
    "    def num_triggered(self): \n",
    "        num_triggered = 0\n",
    "        for dom in dom_list: \n",
    "            if dom.triggered: \n",
    "                num_triggered += 1\n",
    "        return num_triggered\n",
    "    \n",
    "    def volume(self):\n",
    "        points = [dom.location for dom in self.dom_list]\n",
    "        region = ConvexHull(points)\n",
    "        return region.volume"
   ]
  },
  {
   "cell_type": "markdown",
   "metadata": {},
   "source": [
    "## Define Coordinates"
   ]
  },
  {
   "cell_type": "code",
   "execution_count": 5,
   "metadata": {},
   "outputs": [],
   "source": [
    "#We assume that the center of IceCube is at [x,y,z] = [0,0,0]\n",
    "\n",
    "def conv_spherical_to_cartesian(r, theta, phi):\n",
    "    x = r*np.cos(phi)*np.sin(theta)\n",
    "    y = r*np.sin(phi)*np.sin(theta)\n",
    "    z = r*np.cos(theta)\n",
    "    return(x,y,z)\n",
    "\n",
    "def conv_cartesian_to_spherical(x,y,z):\n",
    "    r = np.sqrt(x**2+y**2+z**2) #distance to center of IceCube\n",
    "    theta = np.arccos(z/np.sqrt(x**2+y**2+z**2))\n",
    "    phi = np.arctan(y/x)\n",
    "    return(r, theta, phi)\n",
    "\n",
    "def add_direction(theta_i, phi_i, theta_step, phi_step):\n",
    "    x_i, y_i, z_i = conv_spherical_to_cartesian(1, theta_i, phi_i)\n",
    "    x_step, y_step, z_step = conv_spherical_to_cartesian(1, theta_step, phi_step)\n",
    "    x_f = x_i + x_step\n",
    "    y_f = y_i + y_step\n",
    "    z_f = z_i + z_step\n",
    "    r_f, theta_f, phi_f = conv_cartesian_to_spherical(x_f,y_f,z_f)\n",
    "    return([theta_f, phi_f])\n"
   ]
  },
  {
   "cell_type": "markdown",
   "metadata": {},
   "source": [
    "# Monte Carlo the Cascade\n",
    "\n",
    "Take each interaction, consider governing equations, pick randomized variables to plug into those equations"
   ]
  },
  {
   "cell_type": "markdown",
   "metadata": {},
   "source": [
    "## Functions for kinematics"
   ]
  },
  {
   "cell_type": "code",
   "execution_count": 28,
   "metadata": {},
   "outputs": [],
   "source": [
    "#interact & define secondaries\n",
    "\n",
    "def em_shower_step(particle):   \n",
    "    if particle.particle_type == 'electron' or particle.particle_type =='positron':\n",
    "        # move\n",
    "        dx, dy, dz = conv_spherical_to_cartesian(X_o, particle.theta, particle.phi)\n",
    "        particle.location = [particle.location[0]+dx,particle.location[1]+dy,particle.location[2]+dz]\n",
    "        dtime = X_o / (particle.beta * c)\n",
    "\n",
    "        #interact & define secondaries\n",
    "        phi_i = random.uniform(0,np.pi)\n",
    "        pair_prod = 0; bremss=1;\n",
    "        interaction = random.randint(0,1)  #include probabilities later\n",
    "        if interaction == pair_prod: #assuming it hits a positron/electron at rest\n",
    "            #print('pp')\n",
    "            photon_energy = (particle.energy+particle.mass)/2\n",
    "            direction1_step = [np.arccos(np.sqrt((\n",
    "                particle.energy**2-particle.mass**2)/2*(photon_energy/c)**2)), phi_i]\n",
    "            direction2_step = [-np.arccos(np.sqrt((\n",
    "                particle.energy**2-particle.mass**2)/2*(photon_energy/c)**2)), np.pi-phi_i]\n",
    "            direction1 = add_direction(particle.theta, particle.phi, \n",
    "                                       direction1_step[0], direction1_step[1])\n",
    "            direction2 = add_direction(particle.theta, particle.phi, \n",
    "                                       direction2_step[0], direction2_step[1])\n",
    "            photon1 = Particle('photon', 0, 0, direction1, particle.location, \n",
    "                               photon_energy, particle.time+dtime) \n",
    "            photon2 = Particle('photon', 0, 0 , direction2, particle.location, \n",
    "                               photon_energy, particle.time+dtime) \n",
    "            return(photon1,photon2)  \n",
    "        elif interaction == bremss:\n",
    "            #print('bremss')\n",
    "            photon_momentum = particle.energy/(2*c) #get rid of c?\n",
    "            secondary_electron_momentum = np.sqrt((particle.energy/2)**2 - m_e**2)/c #get rid of c?\n",
    "            electron_direction_step = [np.arccos((particle.momentum**2-photon_momentum**2)/(2*particle.momentum*secondary_electron_momentum)), phi_i]\n",
    "            electron_direction = add_direction(particle.theta, particle.phi, electron_direction_step[0], electron_direction_step[1])\n",
    "            photon_direction = [np.arcsin(np.sin(electron_direction_step[0])*secondary_electron_momentum/photon_momentum),np.pi - phi_i]\n",
    "            electron_energy = particle.energy/2\n",
    "            photon = Particle('photon', 0, 0, photon_direction, particle.location, \n",
    "                              (particle.energy)/2, particle.time+dtime)  \n",
    "            secondary_electron = Particle(particle.particle_type,m_e,\n",
    "                                          particle.charge,electron_direction, particle.location, \n",
    "                                          electron_energy, particle.time+dtime) \n",
    "            return(secondary_electron, photon)\n",
    "    if particle.particle_type=='photon':\n",
    "        #move\n",
    "        dx, dy, dz = conv_spherical_to_cartesian(scat_length, particle.theta, particle.phi)\n",
    "        particle.location = [particle.location[0]+dx,particle.location[1]+dy,particle.location[2]+dz]\n",
    "        dtime = scat_length / (particle.beta * c)\n",
    "\n",
    "        #interact & define secondaries for pair production\n",
    "        electron_energy = particle.energy/2\n",
    "        direction1 = particle.direction \n",
    "        direction2 = particle.direction \n",
    "        electron = Particle('electron', .511, -1, direction1, particle.location, \n",
    "                            electron_energy, particle.time+dtime) \n",
    "        positron = Particle('positron', .511, 1 , direction2, particle.location, \n",
    "                            electron_energy, particle.time+dtime) \n",
    "        return(electron,positron)                     "
   ]
  },
  {
   "cell_type": "markdown",
   "metadata": {},
   "source": [
    "## Functions for Cherenkov radiation"
   ]
  },
  {
   "cell_type": "raw",
   "metadata": {},
   "source": [
    "# Convex Hull options\n",
    "\n",
    "# '_add_points',\n",
    "#  '_points',\n",
    "#  '_qhull',\n",
    "#  '_update',\n",
    "#  '_vertices',\n",
    "#  'add_points',\n",
    "#  'area',\n",
    "#  'close',\n",
    "#  'coplanar',\n",
    "#  'equations',\n",
    "#  'good',\n",
    "#  'max_bound',\n",
    "#  'min_bound',\n",
    "#  'ndim',\n",
    "#  'neighbors',\n",
    "#  'npoints',\n",
    "#  'nsimplex',\n",
    "#  'points',\n",
    "#  'simplices',\n",
    "#  'vertices',\n",
    "#  'volume'"
   ]
  },
  {
   "cell_type": "code",
   "execution_count": 7,
   "metadata": {},
   "outputs": [],
   "source": [
    "# Stealing stuff from Zingale as per usual\n",
    "# This time its the rainbow plotting code\n",
    "\n",
    "## Define RGBA to HEX\n",
    "def rgba_to_hex(rgba):\n",
    "    r = int(rgba[0]*255.0)\n",
    "    g = int(rgba[1]*255.0)\n",
    "    b = int(rgba[2]*255.0)\n",
    "    return '#{:02X}{:02X}{:02X}'.format(r,g,b)\n",
    "\n",
    "# Get color map\n",
    "rainbow_cm = plt.get_cmap('nipy_spectral')\n",
    "def color_map(n):\n",
    "    # n = number of colors in the rainbow spectrum to return\n",
    "    clist = [rainbow_cm(1.0*i/n) for i in range(n)]\n",
    "    return [rgba_to_hex(ci) for ci in clist]"
   ]
  },
  {
   "cell_type": "code",
   "execution_count": 8,
   "metadata": {},
   "outputs": [],
   "source": [
    "class VisibilityRegion:\n",
    "    \"\"\"\n",
    "    Class representing the region in which a photon can be observed by a DOM along its path\n",
    "    \n",
    "    Parameters\n",
    "    ----------\n",
    "    step_positions: list\n",
    "        List of dictionaries of structure\n",
    "        {'location': float, 'direction': {'theta': float,  'phi': float}}\n",
    "        where the location is the photon location and theta/phi describe the\n",
    "        direction in which the photon is traveling\n",
    "    viewable_radius: float\n",
    "        distance from the photon location that the photon can be viewed from\n",
    "        recommendation: radius of a DOM\n",
    "    \n",
    "    Attributes\n",
    "    ----------\n",
    "    regions: list\n",
    "        List of Scipy ConvexHulls representing the photon's path, \n",
    "        incorporating the viewable_radius. \n",
    "    \n",
    "    \"\"\"\n",
    "    \n",
    "    def __init__(self, step_positions, viewable_radius):\n",
    "        # Step positions is a list of dictionaries with keys: location, direction (theta/phi?)\n",
    "        self.step_positions    = step_positions\n",
    "        self.viewable_radius   = viewable_radius\n",
    "        \n",
    "        self.regions = []\n",
    "        for i, step in enumerate(self.step_positions):\n",
    "            if i == len(self.step_positions)-1: \n",
    "                continue\n",
    "            else: \n",
    "                self.regions.append(ConvexHull(np.vstack((\n",
    "                    self.create_circle(step['location'], \n",
    "                                       step['direction']['theta'], \n",
    "                                       step['direction']['phi']) ,\n",
    "                    self.create_circle(self.step_positions[i+1]['location'], \n",
    "                                       self.step_positions[i+1]['direction']['theta'], \n",
    "                                       self.step_positions[i+1]['direction']['phi'] )\n",
    "                ))))\n",
    "                \n",
    "    def create_circle(self, vtx, theta, phi):\n",
    "        \"\"\"\n",
    "        Circle centered on the photon pointing in its direction of travel\n",
    "        and oriented in the photon travel direction\n",
    "        \n",
    "        Parameters\n",
    "        ----------\n",
    "        vtx: float\n",
    "            The 3D location position of the center of the circle\n",
    "        theta: float\n",
    "            The angle in zenith by which the circle is tilted. 0 = straight up\n",
    "        phi: float\n",
    "            The angle in azimuth by which the circle is rotated. \n",
    "        \n",
    "        Returns\n",
    "        ----------\n",
    "        ndarray\n",
    "            A numpy array of 3D coordinates for a circle of radius viewable_radius \n",
    "            with its center at vtx oriented by theta in zenith and phi azimuthally\n",
    "        \"\"\"\n",
    "        \n",
    "        # Generic circle in x-y plane (at z = 0)\n",
    "        circle_thetas = np.linspace(0, 2*np.pi, 50)\n",
    "        circle = np.array([\n",
    "            self.viewable_radius * np.cos(circle_thetas),\n",
    "            self.viewable_radius * np.sin(circle_thetas),\n",
    "            [0]*len(circle_thetas),\n",
    "        ]).T\n",
    "        x = circle[:,0]; y = circle[:,1]; z = circle[:,2]\n",
    "        \n",
    "        # Manipulating and returning generic circle\n",
    "        cos_t = np.cos(np.radians(theta)); sin_t = np.sin(np.radians(theta))\n",
    "        cos_p = np.cos(np.radians(phi));   sin_p = np.sin(np.radians(phi))\n",
    "        return np.array([\n",
    "                    # R_z * R_x\n",
    "#                     (x*cos_p - y*sin_p*cos_t + z*sin_p*sin_t) + vtx[0],\n",
    "#                     (x*sin_p + y*cos_p*cos_t - z*cos_p*sin_t) + vtx[1],\n",
    "#                                           (y*sin_t + z*cos_t) + vtx[2] \n",
    "                    # R_x * R_z\n",
    "                                          (x*cos_p + y*sin_p) + vtx[0],\n",
    "                    (x*cos_t*sin_p + y*cos_t*cos_p - z*sin_t) + vtx[1],\n",
    "                    (x*sin_t*sin_p + y*sin_t*cos_p + z*cos_t) + vtx[2] \n",
    "                ]).T\n",
    "                \n",
    "        \n",
    "    def contains(self, point): \n",
    "        \"\"\"\n",
    "        Determines if the provided point is within the photon viewability region\n",
    "        \n",
    "        Parameters\n",
    "        ----------\n",
    "        point: array\n",
    "            array of format [x, y, z] defining a 3D point\n",
    "        \n",
    "        Returns\n",
    "        ----------\n",
    "        boolean\n",
    "            True if the point is along the photon's path and within the photon's\n",
    "            viewability region. \n",
    "            False otherwise\n",
    "        \"\"\"\n",
    "        \n",
    "        for region in self.regions:\n",
    "            # From https://stackoverflow.com/questions/29311682/finding-if-point-is-in-3d-poly-in-python\n",
    "            test_region = ConvexHull(\n",
    "                np.concatenate((region.points, [point]))\n",
    "            )\n",
    "            if np.array_equal(test_region.vertices, region.vertices): \n",
    "                return True\n",
    "        return False\n",
    "        \n",
    "    def show(self, x_axis='x', y_axis='y'): \n",
    "        \"\"\"\n",
    "        Prints to screen the photon path according to the specified axes\n",
    "        \n",
    "        Parameters\n",
    "        ----------\n",
    "        x_axis: str\n",
    "            Photon travel axis to plot on the plot's X-Axis. 'x' if plotting \n",
    "            photon x-path on plot's x-axis. Options: 'x', 'y', 'z'\n",
    "        y_axis: str\n",
    "            Photon travel axis to plot on the plot's Y-Axis. 'z' if plotting \n",
    "            photon z-path on plot's y-axis. Options: 'x', 'y', 'z'\n",
    "        \n",
    "        Returns\n",
    "        ----------\n",
    "        None\n",
    "        \"\"\"\n",
    "        \n",
    "        axis_index = {'x':0, 'y':1, 'z':2}\n",
    "#         ax.set_prop_cycle(cycler('color', hexclist))\n",
    "        colors = color_map(len(self.regions))\n",
    "        x_min = None; x_max = None\n",
    "        y_min = None; y_max = None\n",
    "        for i, region in enumerate(self.regions):\n",
    "            x_vals = region.points[region.vertices, axis_index[x_axis]]\n",
    "            y_vals = region.points[region.vertices, axis_index[y_axis]]\n",
    "            plt.scatter(x_vals, y_vals, color=colors[i])\n",
    "            \n",
    "#             if x_max == None or np.max(x_vals) > x_max: \n",
    "#                 x_max = np.max(x_vals)\n",
    "#             if x_min == None or np.min(x_vals) > x_min: \n",
    "#                 x_min = np.min(x_vals)\n",
    "#             if y_max == None or np.max(y_vals) > y_max: \n",
    "#                 y_max = np.max(y_vals)\n",
    "#             if y_min == None or np.min(y_vals) > y_min: \n",
    "#                 y_min = np.min(y_vals)\n",
    "                \n",
    "#         plt.xlim(x_min, x_max)\n",
    "#         plt.ylim(y_min, y_max)\n",
    "        plt.xlabel(x_axis)\n",
    "        plt.ylabel(y_axis)\n",
    "        plt.show()\n",
    "        return None"
   ]
  },
  {
   "cell_type": "code",
   "execution_count": 9,
   "metadata": {},
   "outputs": [],
   "source": [
    "shape = VisibilityRegion(\n",
    "    step_positions = [\n",
    "    {'location': [0,0,0], 'direction':{'theta': 0, 'phi':0}},\n",
    "    {'location': [0,0,2], 'direction':{'theta': 135, 'phi':0}}, \n",
    "    {'location': [0,2,4], 'direction':{'theta': 90, 'phi':0}},\n",
    "    {'location': [0,4,4], 'direction':{'theta': 90, 'phi':0}},\n",
    "#     {'location': [0,4,8], 'direction':{'theta': 45, 'phi':0}},\n",
    "#     {'location': [0,6,10], 'direction':{'theta': 90, 'phi':0}},\n",
    "#     {'location': [0,8,12], 'direction':{'theta': 90, 'phi':0}},\n",
    "                  ], \n",
    "    viewable_radius = 1)"
   ]
  },
  {
   "cell_type": "code",
   "execution_count": 51,
   "metadata": {},
   "outputs": [
    {
     "data": {
      "image/png": "[encoded data removed]",
      "text/plain": [
       "<Figure size 432x288 with 1 Axes>"
      ]
     },
     "metadata": {
      "needs_background": "light"
     },
     "output_type": "display_data"
    },
    {
     "data": {
      "image/png": "[encoded data removed]",
      "text/plain": [
       "<Figure size 432x288 with 1 Axes>"
      ]
     },
     "metadata": {
      "needs_background": "light"
     },
     "output_type": "display_data"
    },
    {
     "data": {
      "image/png": "[encoded data removed]",
      "text/plain": [
       "<Figure size 432x288 with 1 Axes>"
      ]
     },
     "metadata": {
      "needs_background": "light"
     },
     "output_type": "display_data"
    }
   ],
   "source": [
    "shape.show(x_axis = 'x', y_axis = 'y')\n",
    "shape.show(x_axis = 'x', y_axis = 'z')\n",
    "shape.show(x_axis = 'y', y_axis = 'z')"
   ]
  },
  {
   "cell_type": "code",
   "execution_count": 52,
   "metadata": {},
   "outputs": [
    {
     "data": {
      "text/plain": [
       "False"
      ]
     },
     "execution_count": 52,
     "metadata": {},
     "output_type": "execute_result"
    }
   ],
   "source": [
    "shape.contains([0,1.5,0.5])"
   ]
  },
  {
   "cell_type": "code",
   "execution_count": 21,
   "metadata": {},
   "outputs": [],
   "source": [
    "def random_walk(photon, n_steps, detector, plot_step=False):\n",
    "    \n",
    "    photon_steps = [{'location': photon.location, \n",
    "                     'direction': {'theta': photon.theta,  'phi': photon.phi}}]\n",
    "    for step in range(n_steps):\n",
    "        absorption = random.random()\n",
    "        if absorption <= scat_length / abs_length: # reverse of what Justin said\n",
    "            break\n",
    "       \n",
    "        # Add a random angle in phi and theta to current direction\n",
    "        move_theta = math.pi * random.random()   \n",
    "        move_phi = 2*math.pi * random.random()\n",
    "        new_theta = add_direction(photon_steps[-1]['direction']['theta'],\n",
    "                                  photon_steps[-1]['direction']['phi'],\n",
    "                                  move_theta, move_phi)[0]\n",
    "        new_phi = add_direction(photon_steps[-1]['direction']['theta'],\n",
    "                                photon_steps[-1]['direction']['phi'],\n",
    "                                move_theta, move_phi)[1]\n",
    "        \n",
    "        # take a step in x,y,z based on new direction of travel\n",
    "        dx, dy, dz = conv_spherical_to_cartesian(scat_length, new_theta, new_phi)\n",
    "        new_loc = [photon_steps[-1]['location'][0]+dx,\n",
    "                   photon_steps[-1]['location'][1]+dy,\n",
    "                   photon_steps[-1]['location'][2]+dz]\n",
    "        photon_steps.append({'location': new_loc, \n",
    "                             'direction': {'theta': new_theta,  'phi': new_phi}})\n",
    "        photon.direction = [new_theta, new_phi] \n",
    "        photon.theta = new_theta\n",
    "        photon.phi = new_phi\n",
    "        photon.location = new_loc\n",
    "        \n",
    "        #Determine if DOM is within visibility region / if a DOM triggers\n",
    "        visibility_region = VisibilityRegion(photon_steps[-2:], detection_radius)\n",
    "        \n",
    "        # Determine if DOMs trigger\n",
    "        for dom in detector.dom_list:   \n",
    "            if visibility_region.contains(dom.location): \n",
    "                if random.random() <= DOM_QE: \n",
    "                    dom.trigger(scat_length*step / c + photon.time)\n",
    "                break\n",
    "            else: \n",
    "                continue\n",
    "        break\n",
    "    \n",
    "    if plot_step: \n",
    "        print(photon_steps[0]['location'][2], photon_steps[-1]['location'][2])\n",
    "        visibility_region = VisibilityRegion(photon_steps, detection_radius)\n",
    "        visibility_region.show()\n",
    "    \n",
    "        \n",
    "        #WE DON'T NEED THIS UNLESS IF X_o >= DOM spacing\n",
    "        # Only trigger the DOM closest to the particle\n",
    "#         if len(triggered_DOMs) > 1: \n",
    "#             closest_dom = triggered_DOMs[0]\n",
    "#             closest_distance = triggered_DOMs[0].distance_from(charged_particle.location) #is this ok w/ rw\n",
    "#             for dom in triggered_DOMs: \n",
    "#                 if dom.distance_from(charged_particle.location) < closest_distance: #is this ok w/ rw\n",
    "#                     closest_dom = dom\n",
    "#                     closest_distance = dom.distance_from(charged_particle.location) #is this ok w/ rw\n",
    "#             closest_dom.triggered = True\n",
    "#         elif len(triggered_DOMs) == 1: \n",
    "#             triggered_DOMs[0].triggered = True\n",
    "    return detector"
   ]
  },
  {
   "cell_type": "code",
   "execution_count": 36,
   "metadata": {},
   "outputs": [],
   "source": [
    "def cherenkov(charged_particle,n_steps,random_walk_n_steps, detector, debug=False): \n",
    "    #make cone & see if it intersects w/ detector, \n",
    "    # return every Cherenkov photon & its path\n",
    "    angle = np.arccos(1/(n*charged_particle.beta))\n",
    "    dNdx = (2*math.pi*(charged_particle.charge**2)\n",
    "            *alpha*(np.sin(angle)**2)*((1/(400e-9))-(1/(700e-9))))\n",
    "    N = dNdx * X_o #assuming the electron travels 1 radiation length as it emits Cherenkov radiation\n",
    "    \n",
    "    if debug: \n",
    "        N = 100\n",
    "    \n",
    "    cherenkov_photons = []\n",
    "    for i in range(n_steps):\n",
    "        \n",
    "        print(f\"\\t\\tSimulating Cherenkov step {i} for {int(N/n_steps)} photons\")\n",
    "            \n",
    "        particle_dx = X_o * i / n_steps\n",
    "        interaction_time = particle_dx / (charged_particle.beta * c) + charged_particle.time\n",
    "        \n",
    "        for photon in range(int(N/n_steps)):\n",
    "            \n",
    "            if photon % 1000 == 0: \n",
    "                print(f\"\\t\\t\\tSimulating photon {photon}\")\n",
    "            \n",
    "            add_angle = add_direction(charged_particle.direction[0],\n",
    "                                      charged_particle.direction[1], \n",
    "                                      angle, 2*np.pi/N * i)\n",
    "            \n",
    "            new_photon = Particle('photon', 0, 0, add_angle, \n",
    "                                  charged_particle.location, \n",
    "                                  h*c/(450e-9), charged_particle.time + interaction_time) #assumed blue light\n",
    "            cherenkov_photons.append(new_photon)\n",
    "            \n",
    "            if debug:\n",
    "                if photon%1000 == 0: \n",
    "                    detector = random_walk(new_photon, n_steps, detector, \n",
    "                                           plot_step=True)\n",
    "                else: \n",
    "                    detector = random_walk(new_photon, n_steps, detector)\n",
    "            else:\n",
    "                detector = random_walk(new_photon, n_steps, detector)\n",
    "\n",
    "            energy_lost = N*h*c/(450e-9)\n",
    "            charged_particle.update_energy(charged_particle.energy-energy_lost)\n",
    "        \n",
    "        # update particle location\n",
    "        dx, dy, dz = conv_spherical_to_cartesian(particle_dx, \n",
    "                                                 charged_particle.theta, \n",
    "                                                 charged_particle.phi)\n",
    "        charged_particle.location = [charged_particle.location[0]+dx,\n",
    "                                     charged_particle.location[1]+dy,\n",
    "                                     charged_particle.location[2]+dz]\n",
    "        \n",
    "    return(N, detector)"
   ]
  },
  {
   "cell_type": "markdown",
   "metadata": {},
   "source": [
    "# Simulate Shower"
   ]
  },
  {
   "cell_type": "code",
   "execution_count": 23,
   "metadata": {},
   "outputs": [],
   "source": [
    "def em_shower(neutrino, steps, n_cher_steps, detector, plot_shower=False, debug=False):\n",
    "    time = 0.0\n",
    "    electron = Particle('electron',m_e,-1,\n",
    "                        neutrino.direction, neutrino.location, neutrino.energy, time)\n",
    "    particle_plotters = [[np.array([neutrino.location, electron.location])]]\n",
    "    incoming_particles =[electron]\n",
    "    for n in range(steps):\n",
    "        print(f\"Simulating EM Shower step {n}\")\n",
    "        outgoing_particles = []\n",
    "        particle_plotters.append([])\n",
    "        for particle in incoming_particles:\n",
    "            new_particles = em_shower_step(particle)\n",
    "            for new_particle in new_particles: \n",
    "                particle_plotters[-1].append(np.array([particle.location, \n",
    "                                                       new_particle.location]))\n",
    "            outgoing_particles.append(new_particles[0])\n",
    "            outgoing_particles.append(new_particles[1])\n",
    "        for particle in outgoing_particles:\n",
    "            if particle.charge != 0:\n",
    "                print(f\"\\tSimulating Particle {particle.particle_type}\")\n",
    "                N_photons, detector = cherenkov(particle, n_cher_steps, \n",
    "                                                2, detector, debug=debug)\n",
    "        incoming_particles = outgoing_particles\n",
    "        \n",
    "    if plot_shower: \n",
    "        fig = plt.figure(figsize=(7, 5))\n",
    "        ax = fig.add_subplot(111, projection='3d')\n",
    "        colors = color_map(len(particle_plotters))\n",
    "        \n",
    "        for i, step in enumerate(particle_plotters): \n",
    "            for line in step: \n",
    "                ax.plot(line[:,0], line[:,1], line[:,2], color=colors[i])\n",
    "        \n",
    "        x_min = None; x_max = None\n",
    "        y_min = None; y_max = None\n",
    "        for i, region in enumerate(self.regions):\n",
    "            x_vals = region.points[region.vertices, axis_index[x_axis]]\n",
    "            y_vals = region.points[region.vertices, axis_index[y_axis]]\n",
    "            plt.scatter(x_vals, y_vals, color=colors[i])\n",
    "            \n",
    "#             if x_max == None or np.max(x_vals) > x_max: \n",
    "#                 x_max = np.max(x_vals)\n",
    "#             if x_min == None or np.min(x_vals) > x_min: \n",
    "#                 x_min = np.min(x_vals)\n",
    "#             if y_max == None or np.max(y_vals) > y_max: \n",
    "#                 y_max = np.max(y_vals)\n",
    "#             if y_min == None or np.min(y_vals) > y_min: \n",
    "#                 y_min = np.min(y_vals)\n",
    "                \n",
    "#         plt.xlim(x_min, x_max)\n",
    "#         plt.ylim(y_min, y_max)\n",
    "        plt.xlabel(x_axis)\n",
    "        plt.ylabel(y_axis)\n",
    "        plt.show()\n",
    "        return None\n",
    "        \n",
    "    return detector"
   ]
  },
  {
   "cell_type": "markdown",
   "metadata": {},
   "source": [
    "# Running the Simulation for 1 particle"
   ]
  },
  {
   "cell_type": "markdown",
   "metadata": {},
   "source": [
    "# Create Detector"
   ]
  },
  {
   "cell_type": "code",
   "execution_count": 53,
   "metadata": {},
   "outputs": [],
   "source": [
    "X, Y, Z = np.mgrid[-20:20:2j, -20:20:2j,-20:20:2j]\n",
    "locations = np.vstack((X.flatten(), Y.flatten(), Z.flatten())).T\n",
    "dom_list = []\n",
    "for dom in locations:\n",
    "    dom_list.append(DOM(dom))\n",
    "IceCube_small = detector(dom_list)    \n",
    "\n",
    "X, Y, Z = np.mgrid[-500:500:21j, -500:500:21j,-500:500:21j]\n",
    "locations = np.vstack((X.flatten(), Y.flatten(), Z.flatten())).T\n",
    "dom_list = [DOM(loc) for loc in locations]\n",
    "IceCube = detector(dom_list)"
   ]
  },
  {
   "cell_type": "code",
   "execution_count": 54,
   "metadata": {},
   "outputs": [],
   "source": [
    "neutrino = Particle('electron neutrino', 0, 0, [0, 1, 0], [20, 20, 20], 1000, 0)"
   ]
  },
  {
   "cell_type": "code",
   "execution_count": 55,
   "metadata": {
    "scrolled": false
   },
   "outputs": [
    {
     "name": "stdout",
     "output_type": "stream",
     "text": [
      "Simulating EM Shower step 0\n",
      "\tSimulating Particle electron\n",
      "\t\tSimulating Cherenkov step 0 for 20 photons\n",
      "\t\t\tSimulating photon 0\n",
      "20.35933598482172 8.416283611687314\n"
     ]
    },
    {
     "data": {
      "image/png": "[encoded data removed]",
      "text/plain": [
       "<Figure size 432x288 with 1 Axes>"
      ]
     },
     "metadata": {
      "needs_background": "light"
     },
     "output_type": "display_data"
    },
    {
     "name": "stdout",
     "output_type": "stream",
     "text": [
      "\t\tSimulating Cherenkov step 1 for 20 photons\n",
      "\t\t\tSimulating photon 0\n",
      "20.35933598482172 20.35933598482172\n"
     ]
    },
    {
     "data": {
      "image/png": "[encoded data removed]",
      "text/plain": [
       "<Figure size 432x288 with 1 Axes>"
      ]
     },
     "metadata": {
      "needs_background": "light"
     },
     "output_type": "display_data"
    },
    {
     "name": "stdout",
     "output_type": "stream",
     "text": [
      "\t\tSimulating Cherenkov step 2 for 20 photons\n",
      "\t\t\tSimulating photon 0\n",
      "20.42656159630732 46.158775430093044\n"
     ]
    },
    {
     "data": {
      "image/png": "[encoded data removed]",
      "text/plain": [
       "<Figure size 432x288 with 1 Axes>"
      ]
     },
     "metadata": {
      "needs_background": "light"
     },
     "output_type": "display_data"
    },
    {
     "name": "stdout",
     "output_type": "stream",
     "text": [
      "\t\tSimulating Cherenkov step 3 for 20 photons\n",
      "\t\t\tSimulating photon 0\n",
      "20.561012819278524 38.47473711478381\n"
     ]
    },
    {
     "data": {
      "image/png": "[encoded data removed]",
      "text/plain": [
       "<Figure size 432x288 with 1 Axes>"
      ]
     },
     "metadata": {
      "needs_background": "light"
     },
     "output_type": "display_data"
    },
    {
     "name": "stdout",
     "output_type": "stream",
     "text": [
      "\t\tSimulating Cherenkov step 4 for 20 photons\n",
      "\t\t\tSimulating photon 0\n",
      "20.76268965373533 20.76268965373533\n"
     ]
    },
    {
     "data": {
      "image/png": "[encoded data removed]",
      "text/plain": [
       "<Figure size 432x288 with 1 Axes>"
      ]
     },
     "metadata": {
      "needs_background": "light"
     },
     "output_type": "display_data"
    },
    {
     "name": "stdout",
     "output_type": "stream",
     "text": [
      "Simulating EM Shower step 1\n",
      "\tSimulating Particle electron\n",
      "\t\tSimulating Cherenkov step 0 for 20 photons\n",
      "\t\t\tSimulating photon 0\n",
      "48.1400144671034 76.31335185287026\n"
     ]
    },
    {
     "data": {
      "image/png": "[encoded data removed]",
      "text/plain": [
       "<Figure size 432x288 with 1 Axes>"
      ]
     },
     "metadata": {
      "needs_background": "light"
     },
     "output_type": "display_data"
    },
    {
     "name": "stdout",
     "output_type": "stream",
     "text": [
      "\t\tSimulating Cherenkov step 1 for 20 photons\n",
      "\t\t\tSimulating photon 0\n",
      "48.1400144671034 48.1400144671034\n"
     ]
    },
    {
     "data": {
      "image/png": "[encoded data removed]",
      "text/plain": [
       "<Figure size 432x288 with 1 Axes>"
      ]
     },
     "metadata": {
      "needs_background": "light"
     },
     "output_type": "display_data"
    },
    {
     "name": "stdout",
     "output_type": "stream",
     "text": [
      "\t\tSimulating Cherenkov step 2 for 20 photons\n",
      "\t\t\tSimulating photon 0\n",
      "48.19391490314063 48.19391490314063\n"
     ]
    },
    {
     "data": {
      "image/png": "[encoded data removed]",
      "text/plain": [
       "<Figure size 432x288 with 1 Axes>"
      ]
     },
     "metadata": {
      "needs_background": "light"
     },
     "output_type": "display_data"
    },
    {
     "name": "stdout",
     "output_type": "stream",
     "text": [
      "\t\tSimulating Cherenkov step 3 for 20 photons\n",
      "\t\t\tSimulating photon 0\n",
      "48.301715775215094 83.53929012352305\n"
     ]
    },
    {
     "data": {
      "image/png": "[encoded data removed]",
      "text/plain": [
       "<Figure size 432x288 with 1 Axes>"
      ]
     },
     "metadata": {
      "needs_background": "light"
     },
     "output_type": "display_data"
    },
    {
     "name": "stdout",
     "output_type": "stream",
     "text": [
      "\t\tSimulating Cherenkov step 4 for 20 photons\n",
      "\t\t\tSimulating photon 0\n",
      "48.46341708332679 48.46341708332679\n"
     ]
    },
    {
     "data": {
      "image/png": "[encoded data removed]",
      "text/plain": [
       "<Figure size 432x288 with 1 Axes>"
      ]
     },
     "metadata": {
      "needs_background": "light"
     },
     "output_type": "display_data"
    },
    {
     "name": "stdout",
     "output_type": "stream",
     "text": [
      "\tSimulating Particle positron\n",
      "\t\tSimulating Cherenkov step 0 for 20 photons\n",
      "\t\t\tSimulating photon 0\n",
      "48.1400144671034 28.64974747530187\n"
     ]
    },
    {
     "data": {
      "image/png": "[encoded data removed]",
      "text/plain": [
       "<Figure size 432x288 with 1 Axes>"
      ]
     },
     "metadata": {
      "needs_background": "light"
     },
     "output_type": "display_data"
    },
    {
     "name": "stdout",
     "output_type": "stream",
     "text": [
      "\t\tSimulating Cherenkov step 1 for 20 photons\n",
      "\t\t\tSimulating photon 0\n",
      "48.1400144671034 48.1400144671034\n"
     ]
    },
    {
     "data": {
      "image/png": "[encoded data removed]",
      "text/plain": [
       "<Figure size 432x288 with 1 Axes>"
      ]
     },
     "metadata": {
      "needs_background": "light"
     },
     "output_type": "display_data"
    },
    {
     "name": "stdout",
     "output_type": "stream",
     "text": [
      "\t\tSimulating Cherenkov step 2 for 20 photons\n",
      "\t\t\tSimulating photon 0\n",
      "48.19391490314063 66.1921863747448\n"
     ]
    },
    {
     "data": {
      "image/png": "[encoded data removed]",
      "text/plain": [
       "<Figure size 432x288 with 1 Axes>"
      ]
     },
     "metadata": {
      "needs_background": "light"
     },
     "output_type": "display_data"
    },
    {
     "name": "stdout",
     "output_type": "stream",
     "text": [
      "\t\tSimulating Cherenkov step 3 for 20 photons\n",
      "\t\t\tSimulating photon 0\n",
      "48.301715775215094 42.876614980685474\n"
     ]
    },
    {
     "data": {
      "image/png": "[encoded data removed]",
      "text/plain": [
       "<Figure size 432x288 with 1 Axes>"
      ]
     },
     "metadata": {
      "needs_background": "light"
     },
     "output_type": "display_data"
    },
    {
     "name": "stdout",
     "output_type": "stream",
     "text": [
      "\t\tSimulating Cherenkov step 4 for 20 photons\n",
      "\t\t\tSimulating photon 0\n",
      "48.46341708332679 48.46341708332679\n"
     ]
    },
    {
     "data": {
      "image/png": "[encoded data removed]",
      "text/plain": [
       "<Figure size 432x288 with 1 Axes>"
      ]
     },
     "metadata": {
      "needs_background": "light"
     },
     "output_type": "display_data"
    },
    {
     "name": "stdout",
     "output_type": "stream",
     "text": [
      "Simulating EM Shower step 2\n"
     ]
    },
    {
     "ename": "TypeError",
     "evalue": "'NoneType' object is not iterable",
     "output_type": "error",
     "traceback": [
      "\u001b[0;31m---------------------------------------------------------------------------\u001b[0m",
      "\u001b[0;31mTypeError\u001b[0m                                 Traceback (most recent call last)",
      "\u001b[0;32m<ipython-input-55-52b93019ed3e>\u001b[0m in \u001b[0;36m<module>\u001b[0;34m\u001b[0m\n\u001b[0;32m----> 1\u001b[0;31m \u001b[0mIceCube_small\u001b[0m \u001b[0;34m=\u001b[0m \u001b[0mem_shower\u001b[0m\u001b[0;34m(\u001b[0m\u001b[0mneutrino\u001b[0m\u001b[0;34m,\u001b[0m \u001b[0;36m3\u001b[0m\u001b[0;34m,\u001b[0m \u001b[0;36m5\u001b[0m\u001b[0;34m,\u001b[0m \u001b[0mIceCube_small\u001b[0m\u001b[0;34m,\u001b[0m \u001b[0mdebug\u001b[0m\u001b[0;34m=\u001b[0m\u001b[0;32mTrue\u001b[0m\u001b[0;34m)\u001b[0m\u001b[0;34m\u001b[0m\u001b[0;34m\u001b[0m\u001b[0m\n\u001b[0m",
      "\u001b[0;32m<ipython-input-23-10a79f44107b>\u001b[0m in \u001b[0;36mem_shower\u001b[0;34m(neutrino, steps, n_cher_steps, detector, plot_shower, debug)\u001b[0m\n\u001b[1;32m     11\u001b[0m         \u001b[0;32mfor\u001b[0m \u001b[0mparticle\u001b[0m \u001b[0;32min\u001b[0m \u001b[0mincoming_particles\u001b[0m\u001b[0;34m:\u001b[0m\u001b[0;34m\u001b[0m\u001b[0;34m\u001b[0m\u001b[0m\n\u001b[1;32m     12\u001b[0m             \u001b[0mnew_particles\u001b[0m \u001b[0;34m=\u001b[0m \u001b[0mem_shower_step\u001b[0m\u001b[0;34m(\u001b[0m\u001b[0mparticle\u001b[0m\u001b[0;34m)\u001b[0m\u001b[0;34m\u001b[0m\u001b[0;34m\u001b[0m\u001b[0m\n\u001b[0;32m---> 13\u001b[0;31m             \u001b[0;32mfor\u001b[0m \u001b[0mnew_particle\u001b[0m \u001b[0;32min\u001b[0m \u001b[0mnew_particles\u001b[0m\u001b[0;34m:\u001b[0m\u001b[0;34m\u001b[0m\u001b[0;34m\u001b[0m\u001b[0m\n\u001b[0m\u001b[1;32m     14\u001b[0m                 particle_plotters[-1].append(np.array([particle.location, \n\u001b[1;32m     15\u001b[0m                                                        new_particle.location]))\n",
      "\u001b[0;31mTypeError\u001b[0m: 'NoneType' object is not iterable"
     ]
    }
   ],
   "source": [
    "IceCube_small = em_shower(neutrino, 3, 5, IceCube_small, debug=True)"
   ]
  },
  {
   "cell_type": "code",
   "execution_count": 48,
   "metadata": {},
   "outputs": [
    {
     "data": {
      "text/plain": [
       "0"
      ]
     },
     "execution_count": 48,
     "metadata": {},
     "output_type": "execute_result"
    }
   ],
   "source": [
    "IceCube_small.num_triggered()"
   ]
  },
  {
   "cell_type": "code",
   "execution_count": 39,
   "metadata": {},
   "outputs": [],
   "source": [
    "def plot_event(neutrino, detector, \n",
    "               title='', filename=None, step=1, show_full_detector=False,\n",
    "               debug=False):\n",
    "\n",
    "    hits_pos = [] # doms that trigger\n",
    "    other_pos = [] # doms that dont\n",
    "    \n",
    "    if debug:\n",
    "        print()\n",
    "        print(event.get_particle_info()[0])\n",
    "        \n",
    "    loc = neutrino.location\n",
    "    dirn = neutrino.direction\n",
    "    \n",
    "    for dom in detector.dom_list:\n",
    "        if dom.triggered:\n",
    "            hits_pos.append(dom.location)\n",
    "        else:\n",
    "            other_pos.append(dom.location)\n",
    "    if debug:\n",
    "        print(*list(hits_pos), sep='\\n')\n",
    "    hits_pos = np.array(hits_pos)\n",
    "    other_pos = np.array(other_pos)\n",
    "      \n",
    "    # plotting the data\n",
    "    for angle in range(0, 360, step):\n",
    "        fig = plt.figure(figsize=(7, 5))\n",
    "        ax = fig.add_subplot(111, projection='3d')\n",
    "        \n",
    "        # Plot hits\n",
    "        hits = ax.scatter(hits_pos[:, 0], hits_pos[:, 1], hits_pos[:, 2], \n",
    "                          marker='o', c='r', s=20)\n",
    "        \n",
    "        xlim = ax.get_xlim()\n",
    "        ylim = ax.get_ylim()\n",
    "        zlim = ax.get_zlim()\n",
    "        dim = max([xlim[1]-xlim[0], ylim[1]-ylim[0], zlim[1]-zlim[0]])\n",
    "        x = np.mean(xlim)\n",
    "        y = np.mean(ylim)\n",
    "        z = np.mean(zlim)\n",
    "        xlim = [max(x-dim/2, -600), min(x+dim/2, 600)]\n",
    "        ylim = [max(y-dim/2, -600), min(y+dim/2, 600)]\n",
    "        zlim = [max(z-dim/2, -600), min(z+dim/2, 600)]\n",
    "        \n",
    "        # Plot non-hits\n",
    "        if show_full_detector: \n",
    "            ax.scatter(other_pos[:, 0], other_pos[:, 1], other_pos[:, 2],\n",
    "                       marker='o', s=10, c='b')\n",
    "        else: \n",
    "            plot_pos = []\n",
    "            for pos in other_pos:\n",
    "                if (xlim[0]<pos[0]<xlim[1] and ylim[0]<pos[1]<ylim[1] \n",
    "                    and zlim[0]<pos[2]<zlim[1]):\n",
    "                    plot_pos.append(pos)\n",
    "            if len(plot_pos) != 0: \n",
    "                plot_pos = np.array(plot_pos)\n",
    "                ax.scatter(plot_pos[:, 0], plot_pos[:, 1], plot_pos[:, 2],\n",
    "                           marker='o', s=10, c='b')\n",
    "            ax.set_xlim(xlim)\n",
    "            ax.set_ylim(ylim)\n",
    "            ax.set_zlim(zlim)\n",
    "        \n",
    "        # Plot vertex and rays\n",
    "        ax.scatter(*loc, marker='o', s=10, c='k')\n",
    "        ax.quiver(*loc, *dirn, color='k', length=100)\n",
    "\n",
    "        ax.view_init(30, angle)\n",
    "        \n",
    "        plt.title(title)\n",
    "        if filename is not None:\n",
    "            plt.tight_layout()\n",
    "            plt.savefig(filename+'_'+str(angle).zfill(3)+'.png', dpi=200)\n",
    "        if angle%90==45-(45%step):\n",
    "            plt.show()\n",
    "        plt.close()"
   ]
  },
  {
   "cell_type": "code",
   "execution_count": null,
   "metadata": {},
   "outputs": [],
   "source": [
    "plot_event(neutrino, IceCube_small)"
   ]
  },
  {
   "cell_type": "markdown",
   "metadata": {},
   "source": [
    "# Reconstruct an Event"
   ]
  },
  {
   "cell_type": "code",
   "execution_count": 118,
   "metadata": {},
   "outputs": [
    {
     "name": "stdout",
     "output_type": "stream",
     "text": [
      "[  3574.99618036   4688.94919243   5802.90547201   6916.86479016\n",
      "   8030.82693203   9144.79169601  10258.75889298  11372.72834561\n",
      "  12486.69988765  13600.67336332  14714.64862667  15828.62554103\n",
      "  16942.60397845  18056.58381922  19170.56495135  20284.54727014\n",
      "  21398.53067774  22512.51508273  23626.50039977  24740.48654922\n",
      "  25854.47345676  26968.46105315  28082.44927386  29196.43805879\n",
      "  30310.42735203  31424.41710159  32538.40725915  33652.39777983\n",
      "  34766.388622    35880.37974706  36994.37111926  38108.3627055\n",
      "  39222.3544752   40336.34640009  41450.33845413  42564.33061328\n",
      "  43678.32285546  44792.31516035  45906.30750933  47020.29988532\n",
      "  48134.29227272  49248.28465728  50362.27702603  51476.26936718\n",
      "  52590.26167005  53704.25392497  54818.24612326  55932.2382571\n",
      "  57046.2303195   58160.22230427  59274.21420589  60388.20601951\n",
      "  61502.19774092  62616.18936646  63730.18089296  64844.1723178\n",
      "  65958.16363874  67072.154854    68186.14596215  69300.13696212\n",
      "  70414.12785316  71528.11863479  72642.10930683  73756.09986933\n",
      "  74870.09032255  75984.08066696  77098.07090323  78212.06103217\n",
      "  79326.05105474  80440.04097206  81554.03078535  82668.02049593\n",
      "  83782.01010522  84895.99961474  86009.98902605  87123.97834081\n",
      "  88237.9675607   89351.95668746  90465.94572287  91579.93466874\n",
      "  92693.92352691  93807.91229922  94921.90098754  96035.88959373\n",
      "  97149.87811968  98263.86656726  99377.85493834 100491.84323478\n",
      " 101605.83145843 102719.81961112 103833.80769469 104947.79571092\n",
      " 106061.78366161 107175.7715485  108289.75937332 109403.7471378\n",
      " 110517.7348436  111631.72249239 112745.71008577 113859.69762535]\n"
     ]
    },
    {
     "data": {
      "text/plain": [
       "102.30597298425086"
      ]
     },
     "execution_count": 118,
     "metadata": {},
     "output_type": "execute_result"
    }
   ],
   "source": [
    "#totally different approach - IceCube usually uses CNNs or max likelihood for this it seems\n",
    "\n",
    "#compare reconstructed energy to true energy (show that our model is subpar)\n",
    "def N_observed(E):\n",
    "    photocathode_efficiency = .25\n",
    "    absorption = 1 #CHANGE\n",
    "    beta = np.sqrt(1-(m_e/E)**2)\n",
    "    Z=1\n",
    "    N = ((Z**2)*alpha/(h_bar*c))*(1-1/((n*beta)**2))\n",
    "    Ec = 800/(1.2+Z_nuc)\n",
    "    return ((2/3)/(photocathode_efficiency*absorption)*X_o*np.log(E/Ec)*(1+(1/np.log(2)))*N*h*c*((1/400e-9)-(1/700e-9)))\n",
    "\n",
    "data = N_observed(np.logspace(2,3,100))\n",
    "print(data)\n",
    "\n",
    "def N_to_energy(N_obs):\n",
    "    energies = np.logspace(2,3,10000) #if you pass a N_obs corresponding to an E above/below these bounds, the bounding energy will be returned\n",
    "    return energies[np.argmin(np.abs(data-N_obs))]\n",
    "\n",
    "N_to_energy(12e6)"
   ]
  },
  {
   "cell_type": "code",
   "execution_count": 98,
   "metadata": {},
   "outputs": [],
   "source": [
    "#first, we need to reconstruct azimuth and zenith (theta and phi)\n",
    "def cone(z_init, theta, dx, dy, dz):\n",
    "    r_vals = z_init*np.tan(theta)\n",
    "    x_vals = []\n",
    "    y_vals = []\n",
    "    z_vals = []\n",
    "    phi_vals = np.linspace(0,2*np.pi,100)\n",
    "    for i,(r,z) in enumerate(zip(r_vals,z_init)):\n",
    "        if i ==0: \n",
    "            x_vals = r*np.cos(phi_vals)-dx\n",
    "            y_vals = r*np.sin(phi_vals)-dy\n",
    "            z_vals = [z-dz]*100\n",
    "        else:\n",
    "            x_vals = np.concatenate((x_vals,r*np.cos(phi_vals)-dx))\n",
    "            y_vals = np.concatenate((y_vals,r*np.sin(phi_vals)-dy))\n",
    "            z_vals = np.concatenate((z_vals,[z-dz]*100))\n",
    "    print(len(x_vals),len(y_vals),len(z_vals))\n",
    "    return np.array([x_vals, y_vals, z_vals]).T\n"
   ]
  },
  {
   "cell_type": "code",
   "execution_count": 100,
   "metadata": {},
   "outputs": [
    {
     "name": "stdout",
     "output_type": "stream",
     "text": [
      "10000 10000 10000\n"
     ]
    },
    {
     "data": {
      "image/png": "[encoded data removed]",
      "text/plain": [
       "<Figure size 504x360 with 1 Axes>"
      ]
     },
     "metadata": {
      "needs_background": "light"
     },
     "output_type": "display_data"
    }
   ],
   "source": [
    "hits_pos_x,hits_pos_y = cone(np.linspace(0,5,100), np.pi/2, 1, 0, 1)\n",
    "fig = plt.figure(figsize=(7, 5))\n",
    "ax = fig.add_subplot(111, projection='3d')\n",
    "hits = ax.scatter(hits_pos_x, hits_pos_y, [[z]*100 for z in np.linspace(0, 5, 100)], \n",
    "                          marker='o', c='r', s=20)"
   ]
  },
  {
   "cell_type": "code",
   "execution_count": 101,
   "metadata": {},
   "outputs": [
    {
     "name": "stdout",
     "output_type": "stream",
     "text": [
      "10000 10000 10000\n"
     ]
    },
    {
     "ename": "TypeError",
     "evalue": "Improper input: N=4 must not exceed M=2",
     "output_type": "error",
     "traceback": [
      "\u001b[0;31m---------------------------------------------------------------------------\u001b[0m",
      "\u001b[0;31mTypeError\u001b[0m                                 Traceback (most recent call last)",
      "\u001b[0;32m<ipython-input-101-e127375b4939>\u001b[0m in \u001b[0;36m<module>\u001b[0;34m\u001b[0m\n\u001b[0;32m----> 1\u001b[0;31m \u001b[0mcurve_fit\u001b[0m\u001b[0;34m(\u001b[0m\u001b[0mcone\u001b[0m\u001b[0;34m,\u001b[0m\u001b[0;34m[\u001b[0m\u001b[0;34m[\u001b[0m\u001b[0mz\u001b[0m\u001b[0;34m]\u001b[0m\u001b[0;34m*\u001b[0m\u001b[0;36m100\u001b[0m \u001b[0;32mfor\u001b[0m \u001b[0mz\u001b[0m \u001b[0;32min\u001b[0m \u001b[0mnp\u001b[0m\u001b[0;34m.\u001b[0m\u001b[0mlinspace\u001b[0m\u001b[0;34m(\u001b[0m\u001b[0;36m0\u001b[0m\u001b[0;34m,\u001b[0m \u001b[0;36m5\u001b[0m\u001b[0;34m,\u001b[0m \u001b[0;36m100\u001b[0m\u001b[0;34m)\u001b[0m\u001b[0;34m]\u001b[0m\u001b[0;34m,\u001b[0m\u001b[0;34m[\u001b[0m\u001b[0mhits_pos_x\u001b[0m\u001b[0;34m,\u001b[0m\u001b[0mhits_pos_y\u001b[0m\u001b[0;34m]\u001b[0m\u001b[0;34m)\u001b[0m\u001b[0;34m\u001b[0m\u001b[0;34m\u001b[0m\u001b[0m\n\u001b[0m\u001b[1;32m      2\u001b[0m \u001b[0;31m#curve_fit(cone, domz, [domx,domy])\u001b[0m\u001b[0;34m\u001b[0m\u001b[0;34m\u001b[0m\u001b[0;34m\u001b[0m\u001b[0m\n",
      "\u001b[0;32m~/opt/anaconda3/lib/python3.8/site-packages/scipy/optimize/minpack.py\u001b[0m in \u001b[0;36mcurve_fit\u001b[0;34m(f, xdata, ydata, p0, sigma, absolute_sigma, check_finite, bounds, method, jac, **kwargs)\u001b[0m\n\u001b[1;32m    782\u001b[0m         \u001b[0;31m# Remove full_output from kwargs, otherwise we're passing it in twice.\u001b[0m\u001b[0;34m\u001b[0m\u001b[0;34m\u001b[0m\u001b[0;34m\u001b[0m\u001b[0m\n\u001b[1;32m    783\u001b[0m         \u001b[0mreturn_full\u001b[0m \u001b[0;34m=\u001b[0m \u001b[0mkwargs\u001b[0m\u001b[0;34m.\u001b[0m\u001b[0mpop\u001b[0m\u001b[0;34m(\u001b[0m\u001b[0;34m'full_output'\u001b[0m\u001b[0;34m,\u001b[0m \u001b[0;32mFalse\u001b[0m\u001b[0;34m)\u001b[0m\u001b[0;34m\u001b[0m\u001b[0;34m\u001b[0m\u001b[0m\n\u001b[0;32m--> 784\u001b[0;31m         \u001b[0mres\u001b[0m \u001b[0;34m=\u001b[0m \u001b[0mleastsq\u001b[0m\u001b[0;34m(\u001b[0m\u001b[0mfunc\u001b[0m\u001b[0;34m,\u001b[0m \u001b[0mp0\u001b[0m\u001b[0;34m,\u001b[0m \u001b[0mDfun\u001b[0m\u001b[0;34m=\u001b[0m\u001b[0mjac\u001b[0m\u001b[0;34m,\u001b[0m \u001b[0mfull_output\u001b[0m\u001b[0;34m=\u001b[0m\u001b[0;36m1\u001b[0m\u001b[0;34m,\u001b[0m \u001b[0;34m**\u001b[0m\u001b[0mkwargs\u001b[0m\u001b[0;34m)\u001b[0m\u001b[0;34m\u001b[0m\u001b[0;34m\u001b[0m\u001b[0m\n\u001b[0m\u001b[1;32m    785\u001b[0m         \u001b[0mpopt\u001b[0m\u001b[0;34m,\u001b[0m \u001b[0mpcov\u001b[0m\u001b[0;34m,\u001b[0m \u001b[0minfodict\u001b[0m\u001b[0;34m,\u001b[0m \u001b[0merrmsg\u001b[0m\u001b[0;34m,\u001b[0m \u001b[0mier\u001b[0m \u001b[0;34m=\u001b[0m \u001b[0mres\u001b[0m\u001b[0;34m\u001b[0m\u001b[0;34m\u001b[0m\u001b[0m\n\u001b[1;32m    786\u001b[0m         \u001b[0mysize\u001b[0m \u001b[0;34m=\u001b[0m \u001b[0mlen\u001b[0m\u001b[0;34m(\u001b[0m\u001b[0minfodict\u001b[0m\u001b[0;34m[\u001b[0m\u001b[0;34m'fvec'\u001b[0m\u001b[0;34m]\u001b[0m\u001b[0;34m)\u001b[0m\u001b[0;34m\u001b[0m\u001b[0;34m\u001b[0m\u001b[0m\n",
      "\u001b[0;32m~/opt/anaconda3/lib/python3.8/site-packages/scipy/optimize/minpack.py\u001b[0m in \u001b[0;36mleastsq\u001b[0;34m(func, x0, args, Dfun, full_output, col_deriv, ftol, xtol, gtol, maxfev, epsfcn, factor, diag)\u001b[0m\n\u001b[1;32m    412\u001b[0m \u001b[0;34m\u001b[0m\u001b[0m\n\u001b[1;32m    413\u001b[0m     \u001b[0;32mif\u001b[0m \u001b[0mn\u001b[0m \u001b[0;34m>\u001b[0m \u001b[0mm\u001b[0m\u001b[0;34m:\u001b[0m\u001b[0;34m\u001b[0m\u001b[0;34m\u001b[0m\u001b[0m\n\u001b[0;32m--> 414\u001b[0;31m         \u001b[0;32mraise\u001b[0m \u001b[0mTypeError\u001b[0m\u001b[0;34m(\u001b[0m\u001b[0;34m'Improper input: N=%s must not exceed M=%s'\u001b[0m \u001b[0;34m%\u001b[0m \u001b[0;34m(\u001b[0m\u001b[0mn\u001b[0m\u001b[0;34m,\u001b[0m \u001b[0mm\u001b[0m\u001b[0;34m)\u001b[0m\u001b[0;34m)\u001b[0m\u001b[0;34m\u001b[0m\u001b[0;34m\u001b[0m\u001b[0m\n\u001b[0m\u001b[1;32m    415\u001b[0m \u001b[0;34m\u001b[0m\u001b[0m\n\u001b[1;32m    416\u001b[0m     \u001b[0;32mif\u001b[0m \u001b[0mepsfcn\u001b[0m \u001b[0;32mis\u001b[0m \u001b[0;32mNone\u001b[0m\u001b[0;34m:\u001b[0m\u001b[0;34m\u001b[0m\u001b[0;34m\u001b[0m\u001b[0m\n",
      "\u001b[0;31mTypeError\u001b[0m: Improper input: N=4 must not exceed M=2"
     ]
    }
   ],
   "source": [
    "curve_fit(cone,[[z]*100 for z in np.linspace(0, 5, 100)],[hits_pos_x,hits_pos_y])\n",
    "#curve_fit(cone, domz, [domx,domy])"
   ]
  },
  {
   "cell_type": "code",
   "execution_count": 104,
   "metadata": {},
   "outputs": [
    {
     "name": "stdout",
     "output_type": "stream",
     "text": [
      "[0.04919355 6.67741929]\n"
     ]
    }
   ],
   "source": [
    "def func(data, a, b):\n",
    "    return data[:,0]*data[:,1]*a + b\n",
    "\n",
    "def func(doms,dx,dy,dz):\n",
    "    return \n",
    "\n",
    "def cone(z_init, theta, dx, dy, dz):\n",
    "    r_vals = z_init*np.tan(theta)\n",
    "    x_vals = []\n",
    "    y_vals = []\n",
    "    z_vals = []\n",
    "    phi_vals = np.linspace(0,2*np.pi,100)\n",
    "    for i,(r,z) in enumerate(zip(r_vals,z_init)):\n",
    "        if i ==0: \n",
    "            x_vals = r*np.cos(phi_vals)-dx\n",
    "            y_vals = r*np.sin(phi_vals)-dy\n",
    "            z_vals = [z-dz]*100\n",
    "        else:\n",
    "            x_vals = np.concatenate((x_vals,r*np.cos(phi_vals)-dx))\n",
    "            y_vals = np.concatenate((y_vals,r*np.sin(phi_vals)-dy))\n",
    "            z_vals = np.concatenate((z_vals,[z-dz]*100))\n",
    "    print(len(x_vals),len(y_vals),len(z_vals))\n",
    "    return np.array([x_vals, y_vals, z_vals]).T\n",
    "\n",
    "A = np.array([(19,20,24), (10,40,28), (10,50,31)])\n",
    "\n",
    "guess = (1,1)\n",
    "params, pcov = curve_fit(func, A[:,:2], A[:,2], guess)\n",
    "print(params)"
   ]
  },
  {
   "cell_type": "markdown",
   "metadata": {},
   "source": [
    "# Simulating Multiple Neutrinos"
   ]
  },
  {
   "cell_type": "code",
   "execution_count": 44,
   "metadata": {},
   "outputs": [],
   "source": [
    "IceCube_small.dom_list[0].triggered=True\n",
    "IceCube_small.dom_list[1].triggered=True\n",
    "IceCube_small.dom_list[2].triggered=True"
   ]
  },
  {
   "cell_type": "code",
   "execution_count": 56,
   "metadata": {},
   "outputs": [],
   "source": [
    "def effective_volume(detector, n_sim, n_triggered):\n",
    "    volume = detector.volume()\n",
    "    return n_triggered / n_sim * volume\n",
    "\n",
    "def effective_area(v_eff, int_length_neutrino): \n",
    "    # Maybe incorrect\n",
    "    return v_eff / int_length_neutrino"
   ]
  },
  {
   "cell_type": "code",
   "execution_count": null,
   "metadata": {},
   "outputs": [],
   "source": []
  }
 ],
 "metadata": {
  "kernelspec": {
   "display_name": "Python 3",
   "language": "python",
   "name": "python3"
  },
  "language_info": {
   "codemirror_mode": {
    "name": "ipython",
    "version": 3
   },
   "file_extension": ".py",
   "mimetype": "text/x-python",
   "name": "python",
   "nbconvert_exporter": "python",
   "pygments_lexer": "ipython3",
   "version": "3.8.5"
  }
 },
 "nbformat": 4,
 "nbformat_minor": 4
}
