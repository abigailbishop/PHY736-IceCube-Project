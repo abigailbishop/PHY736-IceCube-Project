{
 "cells": [
  {
   "cell_type": "code",
   "execution_count": 1,
   "metadata": {},
   "outputs": [],
   "source": [
    "# Imports\n",
    "import numpy as np\n",
    "import matplotlib.pyplot as plt\n",
    "import math\n",
    "import csv\n",
    "import random\n",
    "%matplotlib inline"
   ]
  },
  {
   "cell_type": "markdown",
   "metadata": {},
   "source": [
    "# Define Units\n",
    "\n",
    "Energy: MeV  \n",
    "Mass:   MeV * c$^2$  \n",
    "Time:   s  \n",
    "Length: m   \n",
    "Angles: Radians  "
   ]
  },
  {
   "cell_type": "markdown",
   "metadata": {},
   "source": [
    "# Define Constants"
   ]
  },
  {
   "cell_type": "code",
   "execution_count": 2,
   "metadata": {},
   "outputs": [
    {
     "name": "stdout",
     "output_type": "stream",
     "text": [
      "368.096194824722\n",
      "13.367201715037202\n",
      "30.150301408057157\n"
     ]
    }
   ],
   "source": [
    "alpha = 1/137\n",
    "r_o = 2.81794e-15 #m\n",
    "m_p = 938.272 #MeV/c^2\n",
    "m_e = .511 #MeV/c^2\n",
    "m_pi = 134.9766 #MeV/c^2\n",
    "q = 1.6e-19\n",
    "h = 4.136e-21 #MeV*s \n",
    "c  = 3e8\n",
    "N_A = 6.022e23\n",
    "rho = 916.7 #kg/m^3 at 0C and atmospheric pressure\n",
    "Z_nuc = 7.42 #Z_eff for water\n",
    "A_r = Z_nuc/.55509 #Z/A = .55509\n",
    "n = 1.309 #index of refraction of ice\n",
    "X_o = 1/(4*alpha*(r_o**2)*rho*(N_A/A_r)*Z_nuc*(1+Z_nuc)*np.log(183/(Z_nuc**(1/3))))\n",
    "print(X_o)\n",
    "print(A_r)\n",
    "X_1 = 1433*(.916)*A_r/(Z_nuc*(Z_nuc+1)*(11.319-np.log(Z_nuc)))\n",
    "print(X_1)"
   ]
  },
  {
   "cell_type": "markdown",
   "metadata": {},
   "source": [
    "# Define different Particles"
   ]
  },
  {
   "cell_type": "code",
   "execution_count": 3,
   "metadata": {},
   "outputs": [],
   "source": [
    "class Particle: \n",
    "    def __init__(self, particle_type, mass, charge, direction, location, energy):\n",
    "        self.particle_type = particle_type\n",
    "        self.mass = mass\n",
    "        self.charge = charge\n",
    "        self.location = location # array of [x, y, z] to describe location\n",
    "        self.direction = direction # array of [theta, phi] in direction of travel\n",
    "        self.theta = self.direction[0]\n",
    "        self.phi = self.direction[1]\n",
    "        self.energy = energy\n",
    "        self.beta = np.sqrt(1-(self.mass/self.energy)**2)\n",
    "        self.momentum = np.sqrt(self.energy**2-self.mass**2)/c #get rid of c?\n",
    "    def update_energy(new_energy):\n",
    "        self.energy = new_energy\n",
    "        self.beta = np.sqrt(1-(self.mass/self.energy)**2)\n",
    "        self.momentum = np.sqrt(self.energy**2-self.mass**2)/c #get rid of c?"
   ]
  },
  {
   "cell_type": "markdown",
   "metadata": {},
   "source": [
    "## Define Detector"
   ]
  },
  {
   "cell_type": "code",
   "execution_count": 4,
   "metadata": {},
   "outputs": [],
   "source": [
    "class DOM:\n",
    "    def __init__(self, location):\n",
    "        self.location = location\n",
    "        self.triggered = False\n",
    "        \n",
    "    def distance_from(self, location): \n",
    "        x = location[0]\n",
    "        y = location[1]\n",
    "        z = location[2]\n",
    "        dom_x = self.location[0]\n",
    "        dom_y = self.location[1]\n",
    "        dom_z = self.location[2]\n",
    "        return np.sqrt((dom_x - x)**2 + (dom_y - y)**2 + (dom_z - z)**2)\n",
    "    \n",
    "class detector:\n",
    "    def __init__(self, dom_list):\n",
    "        self.dom_list = dom_list\n",
    "        \n",
    "    def num_triggered(self): \n",
    "        num_triggered = 0\n",
    "        for dom in dom_list: \n",
    "            if dom.triggered: \n",
    "                num_triggered += 1\n",
    "        return num_triggered"
   ]
  },
  {
   "cell_type": "markdown",
   "metadata": {},
   "source": [
    "## Define Coordinates"
   ]
  },
  {
   "cell_type": "code",
   "execution_count": 5,
   "metadata": {},
   "outputs": [],
   "source": [
    "#We assume that the center of IceCube is at [x,y,z] = [0,0,0]\n",
    "\n",
    "def conv_spherical_to_cartesian(r, theta, phi):\n",
    "    x = r*np.cos(phi)*np.sin(theta)\n",
    "    y = r*np.sin(phi)*np.sin(theta)\n",
    "    z = r*np.cos(theta)\n",
    "    return(x,y,z)\n",
    "\n",
    "def conv_cartesian_to_spherical(x,y,z):\n",
    "    r = np.sqrt(x**2+y**2+z**2) #distance to center of IceCube\n",
    "    theta = np.arccos(z/np.sqrt(x**2+y**2+z**2))\n",
    "    phi = np.arctan(y/x)\n",
    "    return(r, theta, phi)\n",
    "\n",
    "def add_direction(theta_i, phi_i, theta_step, phi_step):\n",
    "    x_i, y_i, z_i = conv_spherical_to_cartesian(1, theta_i, phi_i)\n",
    "    x_step, y_step, z_step = conv_spherical_to_cartesian(1, theta_step, phi_step)\n",
    "    x_f = x_i + x_step\n",
    "    y_f = y_i + y_step\n",
    "    z_f = z_i + z_step\n",
    "    r_f, theta_f, phi_f = conv_cartesian_to_spherical(x_f,y_f,z_f)\n",
    "    return([theta_f, phi_f])\n"
   ]
  },
  {
   "cell_type": "markdown",
   "metadata": {},
   "source": [
    "# Monte Carlo the Cascade\n",
    "\n",
    "Take each interaction, consider governing equations, pick randomized variables to plug into those equations"
   ]
  },
  {
   "cell_type": "markdown",
   "metadata": {},
   "source": [
    "## Functions for kinematics"
   ]
  },
  {
   "cell_type": "code",
   "execution_count": 6,
   "metadata": {},
   "outputs": [],
   "source": [
    "#interact & define secondaries\n",
    "\n",
    "def em_shower_step(particle):   \n",
    "    if particle.particle_type == 'electron':\n",
    "        #move\n",
    "        dx, dy, dz = conv_spherical_to_cartesian(X_o, particle.theta, particle.phi)\n",
    "        particle.location = [particle.location[0]+dx,particle.location[1]+dy,particle.location[2]+dz]\n",
    "\n",
    "        #interact & define secondaries\n",
    "        phi_i = random.uniform(0,np.pi)\n",
    "        pair_prod = 0; bremss=1;\n",
    "        interaction = random.randint(0,1)  #include probabilities later\n",
    "        if interaction == pair_prod: #assuming it hits a positron at rest\n",
    "            #print('pp')\n",
    "            photon_energy = (particle.energy+particle.mass)/2\n",
    "            direction1_step = [np.arccos(np.sqrt((particle.energy**2-particle.mass**2)/2*(photon_energy/c)**2)), phi_i]\n",
    "            direction2_step = [-np.arccos(np.sqrt((particle.energy**2-particle.mass**2)/2*(photon_energy/c)**2)), np.pi-phi_i]\n",
    "            direction1 = add_direction(particle.theta, particle.phi, direction1_step[0], direction1_step[1])\n",
    "            direction2 = add_direction(particle.theta, particle.phi, direction2_step[0], direction2_step[1])\n",
    "            photon1 = Particle('photon', 0, 0, direction1, particle.location, photon_energy) \n",
    "            photon2 = Particle('photon', 0, 0 , direction2, particle.location, photon_energy)\n",
    "            return(photon1,photon2)  \n",
    "        elif interaction == bremss:\n",
    "            #print('bremss')\n",
    "            photon_momentum = particle.energy/(2*c) #get rid of c?\n",
    "            secondary_electron_momentum = np.sqrt((particle.energy/2)**2 - m_e**2)/c #get rid of c?\n",
    "            electron_direction_step = [np.arccos((particle.momentum**2-photon_momentum**2)/(2*particle.momentum*secondary_electron_momentum)), phi_i]\n",
    "            electron_direction = add_direction(particle.theta, particle.phi, electron_direction_step[0], electron_direction_step[1])\n",
    "            photon_direction = [np.arcsin(np.sin(electron_direction_step[0])*secondary_electron_momentum/photon_momentum),np.pi - phi_i]\n",
    "            #print(electron_direction)\n",
    "            #print(photon_direction)\n",
    "            electron_energy = particle.energy/2\n",
    "            photon = Particle('photon', 0, 0, photon_direction, particle.location, (particle.energy)/2) \n",
    "            secondary_electron = Particle('electron',m_e,-1,electron_direction, particle.location, electron_energy)\n",
    "            return(secondary_electron, photon)\n",
    "    if particle.particle_type=='photon':\n",
    "        #move\n",
    "        dx, dy, dz = conv_spherical_to_cartesian(X_o, particle.theta, particle.phi)\n",
    "        particle.location = [particle.location[0]+dx,particle.location[1]+dy,particle.location[2]+dz]\n",
    "\n",
    "        #interact & define secondaries for pair production\n",
    "        phi_i = random.uniform(0,np.pi)\n",
    "        electron_energy = particle.energy/2\n",
    "        #direction1_step = [np.arccos(particle.energy/(2*np.sqrt(electron_energy**2-(m_e**2)))), phi_i] #BROKEN\n",
    "        #direction2_step = [-np.arccos(particle.energy/(2*np.sqrt(electron_energy**2-(m_e**2)))), np.pi-phi_i] #BROKEN\n",
    "        #direction1 = add_direction(particle.theta, particle.phi, direction1_step[0], direction1_step[1]) #BROKEN\n",
    "        #direction2 = add_direction(particle.theta, particle.phi, direction2_step[0], direction2_step[1]) #BROKEN\n",
    "        direction1 = particle.direction #temporary\n",
    "        direction2 = particle.direction #temporary\n",
    "        #print(particle.energy/(2*np.sqrt(electron_energy**2-(m_e**2))))\n",
    "        #print(direction2)\n",
    "        electron = Particle('electron', .511, -1, direction1, particle.location, electron_energy)\n",
    "        positron = Particle('positron', .511, 1 , direction2, particle.location, electron_energy)\n",
    "        return(electron,positron)                     "
   ]
  },
  {
   "cell_type": "code",
   "execution_count": 7,
   "metadata": {},
   "outputs": [
    {
     "data": {
      "text/plain": [
       "{'particle_type': 'electron',\n",
       " 'mass': 0.511,\n",
       " 'charge': -1,\n",
       " 'location': [737.192389649444, 0.0, 1.0000000000000453],\n",
       " 'direction': [1.5707963267948966, 0],\n",
       " 'theta': 1.5707963267948966,\n",
       " 'phi': 0,\n",
       " 'energy': 0.75,\n",
       " 'beta': 0.7319732842726494,\n",
       " 'momentum': 1.8299332106816234e-09}"
      ]
     },
     "execution_count": 7,
     "metadata": {},
     "output_type": "execute_result"
    }
   ],
   "source": [
    "#test\n",
    "electron = Particle('electron', .511, -1, [np.pi/2, 0],[1000,1000,1000],100)\n",
    "#em_shower_step(electron)\n",
    "photon = Particle('photon', 0, 0,[np.pi/2, 0],[1,0,1],1.5)\n",
    "em_shower_step(photon)[0].energy\n",
    "vars(em_shower_step(photon)[0])"
   ]
  },
  {
   "cell_type": "markdown",
   "metadata": {},
   "source": [
    "## Functions for Cherenkov radiation"
   ]
  },
  {
   "cell_type": "code",
   "execution_count": 8,
   "metadata": {},
   "outputs": [],
   "source": [
    "from scipy.spatial import ConvexHull\n",
    "from cycler import cycler"
   ]
  },
  {
   "cell_type": "code",
   "execution_count": 9,
   "metadata": {},
   "outputs": [],
   "source": [
    "# Convex Hull options\n",
    "\n",
    "# '_add_points',\n",
    "#  '_points',\n",
    "#  '_qhull',\n",
    "#  '_update',\n",
    "#  '_vertices',\n",
    "#  'add_points',\n",
    "#  'area',\n",
    "#  'close',\n",
    "#  'coplanar',\n",
    "#  'equations',\n",
    "#  'good',\n",
    "#  'max_bound',\n",
    "#  'min_bound',\n",
    "#  'ndim',\n",
    "#  'neighbors',\n",
    "#  'npoints',\n",
    "#  'nsimplex',\n",
    "#  'points',\n",
    "#  'simplices',\n",
    "#  'vertices',\n",
    "#  'volume'"
   ]
  },
  {
   "cell_type": "code",
   "execution_count": 34,
   "metadata": {},
   "outputs": [],
   "source": [
    "# Stealing stuff from Zingale as per usual\n",
    "# This time its the rainbow plotting code\n",
    "\n",
    "## Define RGBA to HEX\n",
    "def rgba_to_hex(rgba):\n",
    "    r = int(rgba[0]*255.0)\n",
    "    g = int(rgba[1]*255.0)\n",
    "    b = int(rgba[2]*255.0)\n",
    "    return '#{:02X}{:02X}{:02X}'.format(r,g,b)\n",
    "\n",
    "# Get color map\n",
    "rainbow_cm = plt.get_cmap('nipy_spectral')\n",
    "def color_map(n):\n",
    "    # n = number of colors in the rainbow spectrum to return\n",
    "    clist = [rainbow_cm(1.0*i/n) for i in range(n)]\n",
    "    return [rgba_to_hex(ci) for ci in clist]"
   ]
  },
  {
   "cell_type": "code",
   "execution_count": 77,
   "metadata": {},
   "outputs": [],
   "source": [
    "class VisibilityRegion:\n",
    "    \"\"\"\n",
    "    Class representing the region in which a photon can be observed by a DOM along its path\n",
    "    \n",
    "    Parameters\n",
    "    ----------\n",
    "    step_positions: list\n",
    "        List of dictionaries of structure\n",
    "        {'vertex': float, 'direction': {'theta': float,  'phi': float}}\n",
    "        where the vertex is the photon vertex and theta/phi describe the\n",
    "        direction in which the photon is traveling\n",
    "    viewable_radius: float\n",
    "        distance from the photon vertex that the photon can be viewed from\n",
    "        recommendation: radius of a DOM\n",
    "    \n",
    "    Attributes\n",
    "    ----------\n",
    "    regions: list\n",
    "        List of Scipy ConvexHulls representing the photon's path, \n",
    "        incorporating the viewable_radius. \n",
    "    \n",
    "    \"\"\"\n",
    "    \n",
    "    def __init__(self, step_positions, viewable_radius):\n",
    "        # Step positions is a list of dictionaries with keys: vertex, direction (theta/phi?)\n",
    "        self.step_positions    = step_positions\n",
    "        self.viewable_radius   = viewable_radius\n",
    "        \n",
    "        self.regions = []\n",
    "        for i, step in enumerate(self.step_positions):\n",
    "            if i == len(self.step_positions)-1: \n",
    "                continue\n",
    "            else: \n",
    "                self.regions.append(ConvexHull(np.vstack((\n",
    "                    self.create_circle(step['vertex'], \n",
    "                                       step['direction']['theta'], \n",
    "                                       step['direction']['phi']) ,\n",
    "                    self.create_circle(self.step_positions[i+1]['vertex'], \n",
    "                                       self.step_positions[i+1]['direction']['theta'], \n",
    "                                       self.step_positions[i+1]['direction']['phi'] )\n",
    "                ))))\n",
    "                \n",
    "    def create_circle(self, vtx, theta, phi):\n",
    "        \"\"\"\n",
    "        Circle centered on the photon pointing in its direction of travel\n",
    "        and oriented in the photon travel direction\n",
    "        \n",
    "        Parameters\n",
    "        ----------\n",
    "        vtx: float\n",
    "            The 3D vertex position of the center of the circle\n",
    "        theta: float\n",
    "            The angle in zenith by which the circle is tilted. 0 = straight up\n",
    "        phi: float\n",
    "            The angle in azimuth by which the circle is rotated. \n",
    "        \n",
    "        Returns\n",
    "        ----------\n",
    "        ndarray\n",
    "            A numpy array of 3D coordinates for a circle of radius viewable_radius \n",
    "            with its center at vtx oriented by theta in zenith and phi azimuthally\n",
    "        \"\"\"\n",
    "        \n",
    "        # Generic circle in x-y plane (at z = 0)\n",
    "        circle_thetas = np.linspace(0, 2*np.pi, 50)\n",
    "        circle = np.array([\n",
    "            self.viewable_radius * np.cos(circle_thetas),\n",
    "            self.viewable_radius * np.sin(circle_thetas),\n",
    "            [0]*len(circle_thetas),\n",
    "        ]).T\n",
    "        x = circle[:,0]; y = circle[:,1]; z = circle[:,2]\n",
    "        \n",
    "        # Manipulating and returning generic circle\n",
    "        cos_t = np.cos(np.radians(theta)); sin_t = np.sin(np.radians(theta))\n",
    "        cos_p = np.cos(np.radians(phi));   sin_p = np.sin(np.radians(phi))\n",
    "        return np.array([\n",
    "                    # R_z * R_x\n",
    "#                     (x*cos_p - y*sin_p*cos_t + z*sin_p*sin_t) + vtx[0],\n",
    "#                     (x*sin_p + y*cos_p*cos_t - z*cos_p*sin_t) + vtx[1],\n",
    "#                                           (y*sin_t + z*cos_t) + vtx[2] \n",
    "                    # R_x * R_z\n",
    "                                          (x*cos_p + y*sin_p) + vtx[0],\n",
    "                    (x*cos_t*sin_p + y*cos_t*cos_p - z*sin_t) + vtx[1],\n",
    "                    (x*sin_t*sin_p + y*sin_t*cos_p + z*cos_t) + vtx[2] \n",
    "                ]).T\n",
    "                \n",
    "        \n",
    "    def contains(self, point): \n",
    "        \"\"\"\n",
    "        Determines if the provided point is within the photon viewability region\n",
    "        \n",
    "        Parameters\n",
    "        ----------\n",
    "        point: array\n",
    "            array of format [x, y, z] defining a 3D point\n",
    "        \n",
    "        Returns\n",
    "        ----------\n",
    "        boolean\n",
    "            True if the point is along the photon's path and within the photon's\n",
    "            viewability region. \n",
    "            False otherwise\n",
    "        \"\"\"\n",
    "        \n",
    "        for region in self.regions:\n",
    "            # From https://stackoverflow.com/questions/29311682/finding-if-point-is-in-3d-poly-in-python\n",
    "            test_region = ConvexHull(\n",
    "                np.concatenate((region.points, [point]))\n",
    "            )\n",
    "            if np.array_equal(test_region.vertices, region.vertices): \n",
    "                return True\n",
    "        return False\n",
    "        \n",
    "    def show(self, x_axis='x', y_axis='y'): \n",
    "        \"\"\"\n",
    "        Prints to screen the photon path according to the specified axes\n",
    "        \n",
    "        Parameters\n",
    "        ----------\n",
    "        x_axis: str\n",
    "            Photon travel axis to plot on the plot's X-Axis. 'x' if plotting \n",
    "            photon x-path on plot's x-axis. Options: 'x', 'y', 'z'\n",
    "        y_axis: str\n",
    "            Photon travel axis to plot on the plot's Y-Axis. 'z' if plotting \n",
    "            photon z-path on plot's y-axis. Options: 'x', 'y', 'z'\n",
    "        \n",
    "        Returns\n",
    "        ----------\n",
    "        None\n",
    "        \"\"\"\n",
    "        \n",
    "        axis_index = {'x':0, 'y':1, 'z':2}\n",
    "#         ax.set_prop_cycle(cycler('color', hexclist))\n",
    "        colors = color_map(len(self.regions))\n",
    "        x_min = None; x_max = None\n",
    "        y_min = None; y_max = None\n",
    "        for i, region in enumerate(self.regions):\n",
    "            x_vals = region.points[region.vertices, axis_index[x_axis]]\n",
    "            y_vals = region.points[region.vertices, axis_index[y_axis]]\n",
    "            plt.scatter(x_vals, y_vals, color=colors[i])\n",
    "            \n",
    "#             if x_max == None or np.max(x_vals) > x_max: \n",
    "#                 x_max = np.max(x_vals)\n",
    "#             if x_min == None or np.min(x_vals) > x_min: \n",
    "#                 x_min = np.min(x_vals)\n",
    "#             if y_max == None or np.max(y_vals) > y_max: \n",
    "#                 y_max = np.max(y_vals)\n",
    "#             if y_min == None or np.min(y_vals) > y_min: \n",
    "#                 y_min = np.min(y_vals)\n",
    "                \n",
    "#         plt.xlim(x_min, x_max)\n",
    "#         plt.ylim(y_min, y_max)\n",
    "        plt.xlabel(x_axis)\n",
    "        plt.ylabel(y_axis)\n",
    "        plt.show()\n",
    "        return None"
   ]
  },
  {
   "cell_type": "code",
   "execution_count": 78,
   "metadata": {},
   "outputs": [],
   "source": [
    "shape = VisibilityRegion([\n",
    "    {'vertex': [0,0,0], 'direction':{'theta': 0, 'phi':0}},\n",
    "    {'vertex': [0,0,2], 'direction':{'theta': 135, 'phi':0}}, \n",
    "    {'vertex': [0,2,4], 'direction':{'theta': 90, 'phi':0}},\n",
    "    {'vertex': [0,4,4], 'direction':{'theta': 90, 'phi':0}},\n",
    "#     {'vertex': [0,4,8], 'direction':{'theta': 45, 'phi':0}},\n",
    "#     {'vertex': [0,6,10], 'direction':{'theta': 90, 'phi':0}},\n",
    "#     {'vertex': [0,8,12], 'direction':{'theta': 90, 'phi':0}},\n",
    "                  ], \n",
    "    1)"
   ]
  },
  {
   "cell_type": "code",
   "execution_count": 79,
   "metadata": {},
   "outputs": [
    {
     "data": {
      "image/png": "[encoded data removed]",
      "text/plain": [
       "<Figure size 432x288 with 1 Axes>"
      ]
     },
     "metadata": {
      "needs_background": "light"
     },
     "output_type": "display_data"
    },
    {
     "data": {
      "image/png": "[encoded data removed]",
      "text/plain": [
       "<Figure size 432x288 with 1 Axes>"
      ]
     },
     "metadata": {
      "needs_background": "light"
     },
     "output_type": "display_data"
    },
    {
     "data": {
      "image/png": "[encoded data removed]",
      "text/plain": [
       "<Figure size 432x288 with 1 Axes>"
      ]
     },
     "metadata": {
      "needs_background": "light"
     },
     "output_type": "display_data"
    }
   ],
   "source": [
    "shape.show(x_axis = 'x', y_axis = 'y')\n",
    "shape.show(x_axis = 'x', y_axis = 'z')\n",
    "shape.show(x_axis = 'y', y_axis = 'z')"
   ]
  },
  {
   "cell_type": "code",
   "execution_count": 70,
   "metadata": {},
   "outputs": [
    {
     "data": {
      "text/plain": [
       "False"
      ]
     },
     "execution_count": 70,
     "metadata": {},
     "output_type": "execute_result"
    }
   ],
   "source": [
    "shape.contains([0,1.5,0.5])"
   ]
  },
  {
   "cell_type": "code",
   "execution_count": null,
   "metadata": {},
   "outputs": [],
   "source": [
    "def random_walk(photon,n_steps, detector):\n",
    "    photon_steps = [{'location': photon.location, 'direction': {'theta': photon.theta,  'phi': photon.phi}}]\n",
    "    for step in range(n_steps):\n",
    "        absorption = random.randfloat(0,1)\n",
    "        if absorption >= .2: #make this more realistic\n",
    "            return photon\n",
    "       \n",
    "        #random walk for scattering\n",
    "        move_theta = random.randint(0,math.pi)   #does this need to be more realistic\n",
    "        move_phi = random.randint(0,2*math.pi)\n",
    "        new_theta = add_direction(photon_steps[-1]['direction']['theta'],photon_steps[-1]['direction']['phi'],move_theta, move_phi)[0]\n",
    "        new_phi = add_direction(photon_steps[-1]['direction']['theta'],photon_steps[-1]['direction']['phi'],move_theta, move_phi)[1]\n",
    "        \n",
    "        dx, dy, dz = conv_spherical_to_cartesian(X_o, new_theta, new_phi)\n",
    "        new_loc = [photon_steps[-1]['location'][0]+dx,photon_steps[-1]['location'][1]+dy,photon_steps[-1]['location'][2]+dz]\n",
    "        photon_steps.append({'location': new_loc, 'direction': {'theta': new_theta,  'phi': new_phi}})\n",
    "        photon.direction = [new_theta, new_phi] \n",
    "        photon.theta = new_theta\n",
    "        photon.phi = new_phi\n",
    "        photon.location = new_loc\n",
    "        \n",
    "        #Determine if DOM is within visibility region / if a DOM triggers\n",
    "        detection_radius = .3 #half of the hole width\n",
    "        visibility_region = VisibilityRegion(photon_steps[-2:], detection_radius)\n",
    "        # Determine if DOMs trigger\n",
    "        for dom in detector.dom_list:   \n",
    "            if visibility_region.contains(dom.location): \n",
    "                # TODO: Add a probability variable that the DOM triggers, currently 100% efficiency\n",
    "                dom.triggered = True\n",
    "                return detector \n",
    "    \n",
    "        \n",
    "        #WE DON'T NEED THIS UNLESS IF X_o >= DOM spacing\n",
    "        # Only trigger the DOM closest to the particle\n",
    "#         if len(triggered_DOMs) > 1: \n",
    "#             closest_dom = triggered_DOMs[0]\n",
    "#             closest_distance = triggered_DOMs[0].distance_from(charged_particle.location) #is this ok w/ rw\n",
    "#             for dom in triggered_DOMs: \n",
    "#                 if dom.distance_from(charged_particle.location) < closest_distance: #is this ok w/ rw\n",
    "#                     closest_dom = dom\n",
    "#                     closest_distance = dom.distance_from(charged_particle.location) #is this ok w/ rw\n",
    "#             closest_dom.triggered = True\n",
    "#         elif len(triggered_DOMs) == 1: \n",
    "#             triggered_DOMs[0].triggered = True\n",
    "    return detector"
   ]
  },
  {
   "cell_type": "code",
   "execution_count": 116,
   "metadata": {},
   "outputs": [],
   "source": [
    "def cherenkov(charged_particle,n_steps,random_walk_n_steps, detector): \n",
    "    #make cone & see if it intersects w/ detector, return every Cherenkov photon & its path\n",
    "    angle = np.arccos(1/(n*charged_particle.beta))\n",
    "    distance = conv_cartesian_to_spherical(charged_particle.location[0],charged_particle.location[1],charged_particle.location[2])[0]+2000 #added to ensure we travel entirely through IceCube\n",
    "    dNdx = 2*math.pi*(charged_particle.charge**2)*alpha*(np.sin(angle)**2)*((1/(400e-9))-(1/(700e-9)))\n",
    "    N = dNdx * X_o #assuming the electron travels 1 radiation length as it emits Cherenkov radiation\n",
    "    cherenkov_photons = []\n",
    "    for i in range(n_steps):\n",
    "        for photon in range (N/n_steps):\n",
    "            add_angle = add_direction(charged_particle.direction[0],charged_particle.direction[1], angle, 2*np.pi/(N*i))\n",
    "            new_photon = Particle('photon', 0, 0, add_angle, charged_particle.location, h*c/(450e-9)) #assumed blue light\n",
    "            cherenkov_photon.append(new_photon)\n",
    "            \n",
    "            detector = random_walk(new_photon,n_steps, detector)\n",
    "\n",
    "            energy_lost = N*h*c/(450e-9)\n",
    "            charged_particle.update_energy(charged_particle.energy-energy_lost)\n",
    "    return(N, detector)"
   ]
  },
  {
   "cell_type": "markdown",
   "metadata": {},
   "source": [
    "# Simulate Shower"
   ]
  },
  {
   "cell_type": "code",
   "execution_count": null,
   "metadata": {},
   "outputs": [],
   "source": [
    "def em_shower(neutrino, steps, n_cher_steps, detector):\n",
    "    electron = Particle('electron',m_e,-1,neutrino.direction, neutrino.location, neutrino.energy)\n",
    "    incoming_particles =[electron]\n",
    "    for n in range(steps):\n",
    "        outgoing_particles = []\n",
    "        for particle in incoming_particles:\n",
    "            outgoing_particles.append(em_shower_step(particle))\n",
    "        for particle in outgoing_particles:\n",
    "            if particle.charge != 0:\n",
    "                N_photons, detector = cherenkov_cone(particle, n_cher_steps, detector)\n",
    "        incoming_particles = outgoing_particles\n",
    "        \n",
    "    return detector"
   ]
  },
  {
   "cell_type": "markdown",
   "metadata": {},
   "source": [
    "# Running the Simulation"
   ]
  },
  {
   "cell_type": "markdown",
   "metadata": {},
   "source": [
    "# Create Detector"
   ]
  },
  {
   "cell_type": "code",
   "execution_count": 43,
   "metadata": {},
   "outputs": [],
   "source": [
    "locations = [[200,200,200],\n",
    "[200,200,-200],\n",
    "[-200,200,200],\n",
    "[-200,200,-200],\n",
    "[200,-200,200],\n",
    "[200,-200,-200],\n",
    "[-200,-200,200],\n",
    "[-200,-200,-200]]\n",
    "dom_list = []\n",
    "for dom in locations:\n",
    "    dom_list.append(DOM(dom))\n",
    "IceCube_small = detector(dom_list)    \n",
    "\n",
    "X, Y, Z = np.mgrid[-500:500:21j, -500:500:21j,-500:500:21j]\n",
    "locations = np.vstack((X.flatten(), Y.flatten(), Z.flatten())).T\n",
    "dom_list = [DOM(loc) for loc in locations]\n",
    "IceCube = detector(dom_list)"
   ]
  },
  {
   "cell_type": "markdown",
   "metadata": {},
   "source": [
    "# Create Neutrino"
   ]
  },
  {
   "cell_type": "code",
   "execution_count": null,
   "metadata": {},
   "outputs": [],
   "source": [
    "neutrino = Particle('electron neutrino', 0, 0, [0, 1, 0], [100, 100, 100], 1000)"
   ]
  },
  {
   "cell_type": "markdown",
   "metadata": {},
   "source": [
    "# Simulate the Shower"
   ]
  },
  {
   "cell_type": "code",
   "execution_count": null,
   "metadata": {},
   "outputs": [],
   "source": [
    "IceCube = em_shower(neutrino, 2, 2, IceCube)"
   ]
  },
  {
   "cell_type": "markdown",
   "metadata": {},
   "source": [
    "# Ananlyze Detector Response"
   ]
  },
  {
   "cell_type": "code",
   "execution_count": null,
   "metadata": {},
   "outputs": [],
   "source": [
    "IceCube.num_triggered()"
   ]
  }
 ],
 "metadata": {
  "kernelspec": {
   "display_name": "Python 3",
   "language": "python",
   "name": "python3"
  },
  "language_info": {
   "codemirror_mode": {
    "name": "ipython",
    "version": 3
   },
   "file_extension": ".py",
   "mimetype": "text/x-python",
   "name": "python",
   "nbconvert_exporter": "python",
   "pygments_lexer": "ipython3",
   "version": "3.8.5"
  }
 },
 "nbformat": 4,
 "nbformat_minor": 4
}
